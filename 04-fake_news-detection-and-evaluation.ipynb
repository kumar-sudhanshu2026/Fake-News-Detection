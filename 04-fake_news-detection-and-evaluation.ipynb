{
 "cells": [
  {
   "cell_type": "markdown",
   "metadata": {
    "id": "1yvQMZ1cTPbm"
   },
   "source": [
    "#**Project Name: Fake News Detection and Evaluation with Confusion Matrix**\n",
    "####**created by: Suprava Das**"
   ]
  },
  {
   "cell_type": "markdown",
   "metadata": {
    "id": "d54yPWrsICZS"
   },
   "source": [
    "# **Problem Statement:**\n"
   ]
  },
  {
   "cell_type": "markdown",
   "metadata": {
    "id": "_9cBrQ6oInIy"
   },
   "source": [
    "This project addresses the challenge of distinguishing fake news from true news using machine learning techniques. A classification model is trained on textual data, and its effectiveness is evaluated through a confusion matrix to assess accuracy and misclassification patterns."
   ]
  },
  {
   "cell_type": "markdown",
   "metadata": {
    "id": "se8calhAIy8h"
   },
   "source": [
    "# **Data Introduction:**"
   ]
  },
  {
   "cell_type": "markdown",
   "metadata": {
    "id": "C-cQiBSbI6vB"
   },
   "source": [
    "This dataset was compiled from real-world sources; the genuine articles were scraped from Reuters.com (a reputable news website). In contrast, the fake news articles were gathered from various unreliable platforms identified by Politifact (a U.S.-based fact-checking organization) and Wikipedia. The collection covers articles on diverse subjects, though most of them center around politics and world news.\n",
    "\n",
    "The dataset cab also be downloaded from kaggle using the link: www.kaggle.com/datasets/emineyetm/fake-news-detection-datasets"
   ]
  },
  {
   "cell_type": "markdown",
   "metadata": {
    "id": "Vr0Ag7NJT4gq"
   },
   "source": [
    "# **Import Packages**"
   ]
  },
  {
   "cell_type": "markdown",
   "metadata": {
    "id": "CN9d_su1N80T"
   },
   "source": [
    "Imported all required libraries and installed any missing packages in Google Colab."
   ]
  },
  {
   "cell_type": "code",
   "execution_count": null,
   "metadata": {
    "colab": {
     "base_uri": "https://localhost:8080/"
    },
    "executionInfo": {
     "elapsed": 6565,
     "status": "ok",
     "timestamp": 1756730896448,
     "user": {
      "displayName": "Suprava Das",
      "userId": "01263562063563363684"
     },
     "user_tz": -330
    },
    "id": "6ey3ayHNIOre",
    "outputId": "80ee3bb0-8e0e-4ebb-8114-96dba7b175ec"
   },
   "outputs": [
    {
     "name": "stdout",
     "output_type": "stream",
     "text": [
      "Requirement already satisfied: gensim in /usr/local/lib/python3.12/dist-packages (4.3.3)\n",
      "Requirement already satisfied: numpy<2.0,>=1.18.5 in /usr/local/lib/python3.12/dist-packages (from gensim) (1.26.4)\n",
      "Requirement already satisfied: scipy<1.14.0,>=1.7.0 in /usr/local/lib/python3.12/dist-packages (from gensim) (1.13.1)\n",
      "Requirement already satisfied: smart-open>=1.8.1 in /usr/local/lib/python3.12/dist-packages (from gensim) (7.3.0.post1)\n",
      "Requirement already satisfied: wrapt in /usr/local/lib/python3.12/dist-packages (from smart-open>=1.8.1->gensim) (1.17.3)\n"
     ]
    }
   ],
   "source": [
    "# installed missing package gensim\n",
    "!pip install gensim"
   ]
  },
  {
   "cell_type": "code",
   "execution_count": null,
   "metadata": {
    "colab": {
     "base_uri": "https://localhost:8080/"
    },
    "executionInfo": {
     "elapsed": 4194,
     "status": "ok",
     "timestamp": 1756730900647,
     "user": {
      "displayName": "Suprava Das",
      "userId": "01263562063563363684"
     },
     "user_tz": -330
    },
    "id": "2YCYCgAyBi4t",
    "outputId": "e0a9dd0f-8339-42c5-b8cd-36ec19aa2d6f"
   },
   "outputs": [
    {
     "name": "stdout",
     "output_type": "stream",
     "text": [
      "Drive already mounted at /content/drive; to attempt to forcibly remount, call drive.mount(\"/content/drive\", force_remount=True).\n"
     ]
    }
   ],
   "source": [
    "# import necessary packages\n",
    "import  matplotlib.pyplot as plt\n",
    "import pandas as pd\n",
    "import numpy as np\n",
    "import seaborn as sns\n",
    "import re\n",
    "import string\n",
    "from sklearn.model_selection import train_test_split\n",
    "from gensim.test.utils import common_texts\n",
    "from gensim.models import Word2Vec\n",
    "from sklearn.metrics import accuracy_score, precision_score, recall_score, f1_score\n",
    "\n",
    "# mounted the drive\n",
    "from google.colab import drive\n",
    "drive.mount('/content/drive')"
   ]
  },
  {
   "cell_type": "markdown",
   "metadata": {
    "id": "ba3PZ1ZsTuI0"
   },
   "source": [
    "#**Data Preprocessing**"
   ]
  },
  {
   "cell_type": "code",
   "execution_count": null,
   "metadata": {
    "id": "q6XykTJIC-cR"
   },
   "outputs": [],
   "source": [
    "# read the csv file using pandas dataframe\n",
    "fake_news_data = pd.read_csv('/content/drive/My Drive/IDEAS-TIH/Internship_2025/Fake.csv')\n",
    "true_news_data = pd.read_csv('/content/drive/My Drive/IDEAS-TIH/Internship_2025/True.csv')"
   ]
  },
  {
   "cell_type": "markdown",
   "metadata": {
    "id": "ZzHOTkU0Qg3z"
   },
   "source": [
    "**Q1.** View the imported csv file data using Pandas Dataframe."
   ]
  },
  {
   "cell_type": "code",
   "execution_count": 28,
   "metadata": {
    "id": "JhdrAucVtGsh"
   },
   "outputs": [
    {
     "name": "stdout",
     "output_type": "stream",
     "text": [
      "Fake News Sample:\n",
      "                                               title  \\\n",
      "0   Donald Trump Sends Out Embarrassing New Year’...   \n",
      "1   Drunk Bragging Trump Staffer Started Russian ...   \n",
      "2   Sheriff David Clarke Becomes An Internet Joke...   \n",
      "3   Trump Is So Obsessed He Even Has Obama’s Name...   \n",
      "4   Pope Francis Just Called Out Donald Trump Dur...   \n",
      "\n",
      "                                                text subject  \\\n",
      "0  Donald Trump just couldn t wish all Americans ...    News   \n",
      "1  House Intelligence Committee Chairman Devin Nu...    News   \n",
      "2  On Friday, it was revealed that former Milwauk...    News   \n",
      "3  On Christmas day, Donald Trump announced that ...    News   \n",
      "4  Pope Francis used his annual Christmas Day mes...    News   \n",
      "\n",
      "                date  \n",
      "0  December 31, 2017  \n",
      "1  December 31, 2017  \n",
      "2  December 30, 2017  \n",
      "3  December 29, 2017  \n",
      "4  December 25, 2017  \n",
      "\n",
      "True News Sample:\n",
      "                                               title  \\\n",
      "0  As U.S. budget fight looms, Republicans flip t...   \n",
      "1  U.S. military to accept transgender recruits o...   \n",
      "2  Senior U.S. Republican senator: 'Let Mr. Muell...   \n",
      "3  FBI Russia probe helped by Australian diplomat...   \n",
      "4  Trump wants Postal Service to charge 'much mor...   \n",
      "\n",
      "                                                text       subject  \\\n",
      "0  WASHINGTON (Reuters) - The head of a conservat...  politicsNews   \n",
      "1  WASHINGTON (Reuters) - Transgender people will...  politicsNews   \n",
      "2  WASHINGTON (Reuters) - The special counsel inv...  politicsNews   \n",
      "3  WASHINGTON (Reuters) - Trump campaign adviser ...  politicsNews   \n",
      "4  SEATTLE/WASHINGTON (Reuters) - President Donal...  politicsNews   \n",
      "\n",
      "                 date  \n",
      "0  December 31, 2017   \n",
      "1  December 29, 2017   \n",
      "2  December 31, 2017   \n",
      "3  December 30, 2017   \n",
      "4  December 29, 2017   \n",
      "\n",
      "Fake News Shape: (23481, 4)\n",
      "True News Shape: (21417, 4)\n"
     ]
    }
   ],
   "source": [
    "import pandas as pd\n",
    "fake_news_data = pd.read_csv('Fake.csv')\n",
    "true_news_data = pd.read_csv('True.csv')\n",
    "print(\"Fake News Sample:\")\n",
    "print(fake_news_data.head())\n",
    "print(\"\\nTrue News Sample:\")\n",
    "print(true_news_data.head())\n",
    "print(\"\\nFake News Shape:\", fake_news_data.shape)\n",
    "print(\"True News Shape:\", true_news_data.shape)"
   ]
  },
  {
   "cell_type": "code",
   "execution_count": 17,
   "metadata": {},
   "outputs": [
    {
     "name": "stdout",
     "output_type": "stream",
     "text": [
      "Combined dataset shape: (44898, 5)\n",
      "                                               title  \\\n",
      "0  Ben Stein Calls Out 9th Circuit Court: Committ...   \n",
      "1  Trump drops Steve Bannon from National Securit...   \n",
      "2  Puerto Rico expects U.S. to lift Jones Act shi...   \n",
      "3   OOPS: Trump Just Accidentally Confirmed He Le...   \n",
      "4  Donald Trump heads for Scotland to reopen a go...   \n",
      "\n",
      "                                                text       subject  \\\n",
      "0  21st Century Wire says Ben Stein, reputable pr...       US_News   \n",
      "1  WASHINGTON (Reuters) - U.S. President Donald T...  politicsNews   \n",
      "2  (Reuters) - Puerto Rico Governor Ricardo Rosse...  politicsNews   \n",
      "3  On Monday, Donald Trump once again embarrassed...          News   \n",
      "4  GLASGOW, Scotland (Reuters) - Most U.S. presid...  politicsNews   \n",
      "\n",
      "                  date label  \n",
      "0    February 13, 2017  FAKE  \n",
      "1       April 5, 2017   REAL  \n",
      "2  September 27, 2017   REAL  \n",
      "3         May 22, 2017  FAKE  \n",
      "4       June 24, 2016   REAL  \n"
     ]
    }
   ],
   "source": [
    "import pandas as pd\n",
    "\n",
    "fake_news_data = pd.read_csv('Fake.csv')   \n",
    "true_news_data = pd.read_csv('True.csv')\n",
    "\n",
    "# Add label columns\n",
    "fake_news_data['label'] = 'FAKE'\n",
    "true_news_data['label'] = 'REAL'\n",
    "\n",
    "# Combine datasets\n",
    "data = pd.concat([fake_news_data, true_news_data], ignore_index=True)\n",
    "\n",
    "# Shuffle data\n",
    "data = data.sample(frac=1, random_state=42).reset_index(drop=True)\n",
    "\n",
    "# Check\n",
    "print(\"Combined dataset shape:\", data.shape)\n",
    "print(data.head())"
   ]
  },
  {
   "cell_type": "code",
   "execution_count": null,
   "metadata": {
    "id": "j8UPR_6kDjyo"
   },
   "outputs": [],
   "source": [
    "fake_news_data[\"class\"] = 1  # Fake News data → 1\n",
    "true_news_data[\"class\"] = 0  # True News data → 0"
   ]
  },
  {
   "cell_type": "code",
   "execution_count": null,
   "metadata": {
    "id": "WNaogr4ITRBN"
   },
   "outputs": [],
   "source": [
    "# merged true and fake news datasets\n",
    "merged_data = [fake_news_data,true_news_data]\n",
    "df = pd.concat(merged_data,axis=0)"
   ]
  },
  {
   "cell_type": "markdown",
   "metadata": {
    "id": "Pmt1Dt4WScjD"
   },
   "source": [
    "**Q2.** drop rows from the dataset consisting null values."
   ]
  },
  {
   "cell_type": "code",
   "execution_count": 34,
   "metadata": {
    "id": "i2ltWuRMTSsT"
   },
   "outputs": [
    {
     "data": {
      "text/html": [
       "<div>\n",
       "<style scoped>\n",
       "    .dataframe tbody tr th:only-of-type {\n",
       "        vertical-align: middle;\n",
       "    }\n",
       "\n",
       "    .dataframe tbody tr th {\n",
       "        vertical-align: top;\n",
       "    }\n",
       "\n",
       "    .dataframe thead th {\n",
       "        text-align: right;\n",
       "    }\n",
       "</style>\n",
       "<table border=\"1\" class=\"dataframe\">\n",
       "  <thead>\n",
       "    <tr style=\"text-align: right;\">\n",
       "      <th></th>\n",
       "      <th>title</th>\n",
       "      <th>text</th>\n",
       "      <th>subject</th>\n",
       "      <th>date</th>\n",
       "      <th>label</th>\n",
       "      <th>clean_text</th>\n",
       "    </tr>\n",
       "  </thead>\n",
       "  <tbody>\n",
       "    <tr>\n",
       "      <th>0</th>\n",
       "      <td>Ben Stein Calls Out 9th Circuit Court: Committ...</td>\n",
       "      <td>21st Century Wire says Ben Stein, reputable pr...</td>\n",
       "      <td>US_News</td>\n",
       "      <td>February 13, 2017</td>\n",
       "      <td>FAKE</td>\n",
       "      <td>st century wire says ben stein reputable profe...</td>\n",
       "    </tr>\n",
       "    <tr>\n",
       "      <th>1</th>\n",
       "      <td>Trump drops Steve Bannon from National Securit...</td>\n",
       "      <td>WASHINGTON (Reuters) - U.S. President Donald T...</td>\n",
       "      <td>politicsNews</td>\n",
       "      <td>April 5, 2017</td>\n",
       "      <td>REAL</td>\n",
       "      <td>washington reuters u s president donald trump ...</td>\n",
       "    </tr>\n",
       "    <tr>\n",
       "      <th>2</th>\n",
       "      <td>Puerto Rico expects U.S. to lift Jones Act shi...</td>\n",
       "      <td>(Reuters) - Puerto Rico Governor Ricardo Rosse...</td>\n",
       "      <td>politicsNews</td>\n",
       "      <td>September 27, 2017</td>\n",
       "      <td>REAL</td>\n",
       "      <td>reuters puerto rico governor ricardo rossello ...</td>\n",
       "    </tr>\n",
       "    <tr>\n",
       "      <th>3</th>\n",
       "      <td>OOPS: Trump Just Accidentally Confirmed He Le...</td>\n",
       "      <td>On Monday, Donald Trump once again embarrassed...</td>\n",
       "      <td>News</td>\n",
       "      <td>May 22, 2017</td>\n",
       "      <td>FAKE</td>\n",
       "      <td>on monday donald trump once again embarrassed ...</td>\n",
       "    </tr>\n",
       "    <tr>\n",
       "      <th>4</th>\n",
       "      <td>Donald Trump heads for Scotland to reopen a go...</td>\n",
       "      <td>GLASGOW, Scotland (Reuters) - Most U.S. presid...</td>\n",
       "      <td>politicsNews</td>\n",
       "      <td>June 24, 2016</td>\n",
       "      <td>REAL</td>\n",
       "      <td>glasgow scotland reuters most u s presidential...</td>\n",
       "    </tr>\n",
       "  </tbody>\n",
       "</table>\n",
       "</div>"
      ],
      "text/plain": [
       "                                               title  \\\n",
       "0  Ben Stein Calls Out 9th Circuit Court: Committ...   \n",
       "1  Trump drops Steve Bannon from National Securit...   \n",
       "2  Puerto Rico expects U.S. to lift Jones Act shi...   \n",
       "3   OOPS: Trump Just Accidentally Confirmed He Le...   \n",
       "4  Donald Trump heads for Scotland to reopen a go...   \n",
       "\n",
       "                                                text       subject  \\\n",
       "0  21st Century Wire says Ben Stein, reputable pr...       US_News   \n",
       "1  WASHINGTON (Reuters) - U.S. President Donald T...  politicsNews   \n",
       "2  (Reuters) - Puerto Rico Governor Ricardo Rosse...  politicsNews   \n",
       "3  On Monday, Donald Trump once again embarrassed...          News   \n",
       "4  GLASGOW, Scotland (Reuters) - Most U.S. presid...  politicsNews   \n",
       "\n",
       "                  date label  \\\n",
       "0    February 13, 2017  FAKE   \n",
       "1       April 5, 2017   REAL   \n",
       "2  September 27, 2017   REAL   \n",
       "3         May 22, 2017  FAKE   \n",
       "4       June 24, 2016   REAL   \n",
       "\n",
       "                                          clean_text  \n",
       "0  st century wire says ben stein reputable profe...  \n",
       "1  washington reuters u s president donald trump ...  \n",
       "2  reuters puerto rico governor ricardo rossello ...  \n",
       "3  on monday donald trump once again embarrassed ...  \n",
       "4  glasgow scotland reuters most u s presidential...  "
      ]
     },
     "execution_count": 34,
     "metadata": {},
     "output_type": "execute_result"
    }
   ],
   "source": [
    "import re\n",
    "def clean_text(text):\n",
    "    text = re.sub(r'http\\S+', '', text)       # remove links\n",
    "    text = re.sub(r'[^a-zA-Z]', ' ', text)    # keep only letters\n",
    "    text = text.lower()                       # lowercase\n",
    "    text = text.split()\n",
    "    return \" \".join(text)\n",
    "data['clean_text'] = data['text'].apply(clean_text)\n",
    "data.head()"
   ]
  },
  {
   "cell_type": "markdown",
   "metadata": {
    "id": "lwAYZdVGTjF6"
   },
   "source": [
    "**Q3.** shuffle the data."
   ]
  },
  {
   "cell_type": "code",
   "execution_count": 35,
   "metadata": {
    "id": "tCahSMvTTVYE"
   },
   "outputs": [
    {
     "name": "stdout",
     "output_type": "stream",
     "text": [
      "First 5 rows after shuffle:\n",
      "                                               title  \\\n",
      "0  Ben Stein Calls Out 9th Circuit Court: Committ...   \n",
      "1  Trump drops Steve Bannon from National Securit...   \n",
      "2  Puerto Rico expects U.S. to lift Jones Act shi...   \n",
      "3   OOPS: Trump Just Accidentally Confirmed He Le...   \n",
      "4  Donald Trump heads for Scotland to reopen a go...   \n",
      "\n",
      "                                                text       subject  \\\n",
      "0  21st Century Wire says Ben Stein, reputable pr...       US_News   \n",
      "1  WASHINGTON (Reuters) - U.S. President Donald T...  politicsNews   \n",
      "2  (Reuters) - Puerto Rico Governor Ricardo Rosse...  politicsNews   \n",
      "3  On Monday, Donald Trump once again embarrassed...          News   \n",
      "4  GLASGOW, Scotland (Reuters) - Most U.S. presid...  politicsNews   \n",
      "\n",
      "                  date  label  \n",
      "0    February 13, 2017      1  \n",
      "1       April 5, 2017       0  \n",
      "2  September 27, 2017       0  \n",
      "3         May 22, 2017      1  \n",
      "4       June 24, 2016       0  \n",
      "\n",
      "Dataset shape: (44898, 5)\n"
     ]
    }
   ],
   "source": [
    "import pandas as pd\n",
    "fake_news_data['label'] = 1\n",
    "true_news_data['label'] = 0\n",
    "data = pd.concat([fake_news_data, true_news_data], ignore_index=True)\n",
    "# Shuffle dataset\n",
    "data = data.sample(frac=1, random_state=42).reset_index(drop=True)\n",
    "# Output to check\n",
    "print(\"First 5 rows after shuffle:\")\n",
    "print(data.head())\n",
    "print(\"\\nDataset shape:\", data.shape)"
   ]
  },
  {
   "cell_type": "code",
   "execution_count": 36,
   "metadata": {},
   "outputs": [
    {
     "name": "stdout",
     "output_type": "stream",
     "text": [
      "                                               title  \\\n",
      "0  Ben Stein Calls Out 9th Circuit Court: Committ...   \n",
      "1  Trump drops Steve Bannon from National Securit...   \n",
      "2  Puerto Rico expects U.S. to lift Jones Act shi...   \n",
      "3   OOPS: Trump Just Accidentally Confirmed He Le...   \n",
      "4  Donald Trump heads for Scotland to reopen a go...   \n",
      "\n",
      "                                                text       subject  \\\n",
      "0  21st Century Wire says Ben Stein, reputable pr...       US_News   \n",
      "1  WASHINGTON (Reuters) - U.S. President Donald T...  politicsNews   \n",
      "2  (Reuters) - Puerto Rico Governor Ricardo Rosse...  politicsNews   \n",
      "3  On Monday, Donald Trump once again embarrassed...          News   \n",
      "4  GLASGOW, Scotland (Reuters) - Most U.S. presid...  politicsNews   \n",
      "\n",
      "                  date  label  \n",
      "0    February 13, 2017      1  \n",
      "1       April 5, 2017       0  \n",
      "2  September 27, 2017       0  \n",
      "3         May 22, 2017      1  \n",
      "4       June 24, 2016       0  \n",
      "(44898, 5)\n"
     ]
    }
   ],
   "source": [
    "print(data.head())\n",
    "print(data.shape)"
   ]
  },
  {
   "cell_type": "code",
   "execution_count": null,
   "metadata": {
    "id": "ES6BpPEOGtZB"
   },
   "outputs": [],
   "source": [
    "#reset index of the merged dataframe\n",
    "df = df.reset_index(drop=True)"
   ]
  },
  {
   "cell_type": "code",
   "execution_count": null,
   "metadata": {
    "colab": {
     "base_uri": "https://localhost:8080/",
     "height": 363
    },
    "executionInfo": {
     "elapsed": 1770,
     "status": "ok",
     "timestamp": 1756730906225,
     "user": {
      "displayName": "Suprava Das",
      "userId": "01263562063563363684"
     },
     "user_tz": -330
    },
    "id": "b6NvjxfbGSRK",
    "outputId": "9c33fd03-907e-4b12-81b6-407a9344c96d"
   },
   "outputs": [
    {
     "data": {
      "application/vnd.google.colaboratory.intrinsic+json": {
       "summary": "{\n  \"name\": \"df\",\n  \"rows\": 44898,\n  \"fields\": [\n    {\n      \"column\": \"title\",\n      \"properties\": {\n        \"dtype\": \"string\",\n        \"num_unique_values\": 38729,\n        \"samples\": [\n          \" Donald Trump Loses His Sh*t In Massive Hissy Fit About The Media Doing Their Job (TWEETS)\",\n          \" WATCH: Hillary Just Gave Us The BEST Comeback Ever To All The Allegations That She\\u2019s Sick\",\n          \"U Of WI STUDENTS SELL Hateful Hoodies: \\u201cAll White People Are Racists\\u201d\\u2026Message Promoting Violence Against Cops\"\n        ],\n        \"semantic_type\": \"\",\n        \"description\": \"\"\n      }\n    },\n    {\n      \"column\": \"text\",\n      \"properties\": {\n        \"dtype\": \"string\",\n        \"num_unique_values\": 38646,\n        \"samples\": [\n          \"ZURICH (Reuters) - Three people have died in separate avalanche accidents in the Swiss Alps, police said on Monday. A man who was skiing close to the 2,844-metre high Hofathorn, in the southern canton of Wallis, died after being carried away by an avalanche on Monday morning. The 39-year-old from the Wallis region was quickly found and recovered by his friends but was confirmed dead at the scene by emergency services. Police in Graubunden, in the east of Switzerland, said a tourist who went missing on Saturday had also been found dead. The 31-year-old Frenchman had tried to climb the Glattwang mountain alone on Saturday afternoon after skiing with his girlfriend. When he did not return, a search was launched and the man s body was found in a ravine on Sunday morning. Police said he had triggered an avalanche on his descent which carried him more than a kilometre over rocky terrain. Separately, one of three walkers buried by a snow drift in Wallis on Saturday has died, Swiss broadcaster SRF reported, quoting the police.  The group was hiking at a height of 2,700 meters in the St Luc region when the accident happened. One of them managed to get free and make an emergency call which allowed the others to be rescued. All three were flown to hospital, where one, a 29-year-old woman from the Swiss canton of Vaud, died of her injuries on  Sunday evening, SRF said. (This version of the story corrects paragraph four to make clear Graubunden is in the east of Switzerland, not the west) \",\n          \"As we all know, Sarah Palin is America s village idiot, but at least she would have only been vice-president had Republicans actually won eight years ago.But Donald Trump is aiming to become president, and according to Nicolle Wallace he knows even LESS about foreign policy than Sarah Palin does.And Wallace would know, too, since she was a member of Palin s staff during John McCain s 2008 presidential campaign.During an appearance on Morning Joe on Thursday, Joe Scarborough mentioned the  historical fact  that when it came to foreign policy the former Alaska Governor was  woefully ignorant  and asked Wallace to chime in on Donald Trump based on her experience trying to get Palin up to speed. Sarah Palin went to bed with an open highlighter smeared on her face most nights because she was trying to learn,  Wallace said.  She was up all night studying and she understood that she was on the ticket with a man who was respected around the world I don t know if this is a gender thing, but he s not even trying to learn. Here s the video via YouTube.And there you have it, folks. Donald Trump is way more ignorant than Sarah Palin when it comes to foreign policy and he refuses to learn.It s been obvious from the start, however. Trump has not only insulted Mexico and the 1.6 billion Muslims around the world, he has stated that he intends to treat foreign policy like a business negotiation.He has threatened to pull American support from NATO, which would embolden Russia. He has threatened to pull American support from Japan and South Korea, which would leave our two biggest allies in Asia vulnerable. And he has said he wants to give nuclear weapons to both of those countries and Saudi Arabia as well, which would only increase tensions in both Asia and the Middle East while increasing the threat of nuclear war. Trump has also said he won t rule out using nuclear weapons against Europe. And that s just the tip of the iceberg.This is the man Republicans chose to be their nominee. This is the man they hope will be in the White House in 2017. And he doesn t know a damn thing about foreign policy. Republicans went from nominating an idiot for vice-president to doubling down eight years later by nominating an even worse idiot for president. As many times as Donald Trump has claimed that the world is falling apart, he has no interest in learning what the problems are so that he can do something to help solve them. The only thing he wants to do is watch the world burn.It s no wonder that Wallace declared the Republican Party dead after Trump s acceptance speech at the RNC Convention last week. Clearly, Wallace knew from experience just how disastrous Trump is as a candidate and how disastrous he would be to our nation. Worse than Sarah Palin. And that says a lot.Featured Image: Screenshot\",\n          \"WASHINGTON (Reuters) - U.S. Republicans on Friday repealed a securities disclosure rule aimed at curbing corruption at energy and mining companies and voted to ax emissions limits on drilling operations, part of a push to remove Obama-era regulations on extractive industries.  In a 52-47 vote, the Republican-controlled Senate approved a resolution to eradicate a rule requiring companies such as Exxon Mobil and Chevron Corp to publicly state taxes and other fees paid to foreign governments like Russia.  The House of Representatives already passed the measure. President Donald Trump is expected to sign it within days. On Thursday, the Senate repealed a rule that would have limited coal companies from dumping waste into streams.  After a number of legal battles, the U.S. Securities and Exchange Commission in June 2016 completed the regulation, which supporters said could help expose questionable financial ties U.S. companies may have with foreign governments. Senate Democrats raised concerns that Exxon\\u2019s chief executive during those legal fights was Rex Tillerson, who was recently confirmed as U.S. secretary of state and has worked extensively in Russia. \\u201cIt should be lost on no one that in less than 48 hours, the Republican-controlled Senate has confirmed the former head of ExxonMobil to serve as our secretary of state, and repealed a key anti-corruption rule that Exxon Mobil and the American Petroleum Institute have erroneously fought for years,\\u201d Senator Ben Cardin of Maryland said, referring to the oil industry\\u2019s trade group. Exxon and other major energy corporations fought for years to block the rule, required by the 2010 Dodd-Frank Wall Street reform law.  Cardin, the senior Democrat on the foreign relations committee, wrote the Dodd-Frank section on the payments to foreign governments with Richard Lugar, a former Republican senator. Critics of the rule said it duplicated existing regulations,  was too costly and burdensome for companies to implement and that it put U.S. companies at a competitive disadvantage with state-owned companies in other countries that do not have to divulge such information. The change could give American companies an edge over Canadian and European companies that face some of the toughest transparency rules in the world.  Republicans have taken advantage of a seldom-used law known as the Congressional Review Act to overturn recently enacted rules with simple majorities in both chambers, denying senators the opportunity to filibuster and stall a vote.  Democrats said Republicans were using the review act to help companies not the public. \\u201cWhen it comes to giving public resources to private interests and gutting our nation\\u2019s health, environmental and financial standards, the Republicans can\\u2019t seem to act fast enough,\\u201d said Representative Raul Grijalva. \\u201cWhoever they\\u2019re doing this for, it isn\\u2019t the American public.\\u201d       The Congressional Review Act also bars agencies from revisiting overturned rules, which could pose a legal conundrum for the SEC, which is required by law to enact a payments regulation. The Senate will next consider repealing a rule limiting venting and leaking of the powerful greenhouse gas methane by oil and gas drillers on federal and tribal lands, mostly in the U.S. West. The repeal was passed by the Republican-controlled House on Friday.  The Interior Department finalized the methane rule in November. The oil industry has argued that it would add to costs for new and existing wells. Environmentalists have said the rule would protect human health and return more than $800 million in royalties to taxpayers over 10 years.  \"\n        ],\n        \"semantic_type\": \"\",\n        \"description\": \"\"\n      }\n    },\n    {\n      \"column\": \"subject\",\n      \"properties\": {\n        \"dtype\": \"category\",\n        \"num_unique_values\": 8,\n        \"samples\": [\n          \"politicsNews\",\n          \"politics\",\n          \"worldnews\"\n        ],\n        \"semantic_type\": \"\",\n        \"description\": \"\"\n      }\n    },\n    {\n      \"column\": \"date\",\n      \"properties\": {\n        \"dtype\": \"category\",\n        \"num_unique_values\": 2397,\n        \"samples\": [\n          \"May 1, 2016\",\n          \"January 13, 2017 \",\n          \"Nov 4, 2017\"\n        ],\n        \"semantic_type\": \"\",\n        \"description\": \"\"\n      }\n    },\n    {\n      \"column\": \"class\",\n      \"properties\": {\n        \"dtype\": \"number\",\n        \"std\": 0,\n        \"min\": 0,\n        \"max\": 1,\n        \"num_unique_values\": 2,\n        \"samples\": [\n          1,\n          0\n        ],\n        \"semantic_type\": \"\",\n        \"description\": \"\"\n      }\n    }\n  ]\n}",
       "type": "dataframe",
       "variable_name": "df"
      },
      "text/html": [
       "\n",
       "  <div id=\"df-4ec82a7f-b8c5-4427-a2cf-e54621f6a42a\" class=\"colab-df-container\">\n",
       "    <div>\n",
       "<style scoped>\n",
       "    .dataframe tbody tr th:only-of-type {\n",
       "        vertical-align: middle;\n",
       "    }\n",
       "\n",
       "    .dataframe tbody tr th {\n",
       "        vertical-align: top;\n",
       "    }\n",
       "\n",
       "    .dataframe thead th {\n",
       "        text-align: right;\n",
       "    }\n",
       "</style>\n",
       "<table border=\"1\" class=\"dataframe\">\n",
       "  <thead>\n",
       "    <tr style=\"text-align: right;\">\n",
       "      <th></th>\n",
       "      <th>title</th>\n",
       "      <th>text</th>\n",
       "      <th>subject</th>\n",
       "      <th>date</th>\n",
       "      <th>class</th>\n",
       "    </tr>\n",
       "  </thead>\n",
       "  <tbody>\n",
       "    <tr>\n",
       "      <th>0</th>\n",
       "      <td>Head of Zimbabwe election commission quits, so...</td>\n",
       "      <td>HARARE (Reuters) - Zimbabwe Electoral Commissi...</td>\n",
       "      <td>worldnews</td>\n",
       "      <td>December 8, 2017</td>\n",
       "      <td>0</td>\n",
       "    </tr>\n",
       "    <tr>\n",
       "      <th>1</th>\n",
       "      <td>House Speaker Ryan plans Harvey aid 'installme...</td>\n",
       "      <td>WASHINGTON (Reuters) - U.S. House of Represent...</td>\n",
       "      <td>politicsNews</td>\n",
       "      <td>September 1, 2017</td>\n",
       "      <td>0</td>\n",
       "    </tr>\n",
       "    <tr>\n",
       "      <th>2</th>\n",
       "      <td>SETH RICH MURDER Has CHILLING SIMILARITIES To ...</td>\n",
       "      <td>Just two months shy of the one-year anniversar...</td>\n",
       "      <td>left-news</td>\n",
       "      <td>May 16, 2017</td>\n",
       "      <td>1</td>\n",
       "    </tr>\n",
       "    <tr>\n",
       "      <th>3</th>\n",
       "      <td>U.S. tax cuts won't make housing more affordab...</td>\n",
       "      <td>(Reuters) - The U.S. tax overhaul as currently...</td>\n",
       "      <td>politicsNews</td>\n",
       "      <td>December 19, 2017</td>\n",
       "      <td>0</td>\n",
       "    </tr>\n",
       "    <tr>\n",
       "      <th>4</th>\n",
       "      <td>Bill Maher Shows America Why Donald Trump Mus...</td>\n",
       "      <td>Bill Maher is not shy about what he thinks of ...</td>\n",
       "      <td>News</td>\n",
       "      <td>May 7, 2016</td>\n",
       "      <td>1</td>\n",
       "    </tr>\n",
       "    <tr>\n",
       "      <th>5</th>\n",
       "      <td>BREAKING! INVESTIGATION: Hillary Clinton Did N...</td>\n",
       "      <td>Was Hillary Clinton negligent or was she doin...</td>\n",
       "      <td>Government News</td>\n",
       "      <td>May 25, 2016</td>\n",
       "      <td>1</td>\n",
       "    </tr>\n",
       "    <tr>\n",
       "      <th>6</th>\n",
       "      <td>China considers three-year jail terms for disr...</td>\n",
       "      <td>BEIJING (Reuters) - China s largely rubber-sta...</td>\n",
       "      <td>worldnews</td>\n",
       "      <td>October 31, 2017</td>\n",
       "      <td>0</td>\n",
       "    </tr>\n",
       "    <tr>\n",
       "      <th>7</th>\n",
       "      <td>Trump administration blacklists three official...</td>\n",
       "      <td>WASHINGTON (Reuters) - The Trump administratio...</td>\n",
       "      <td>worldnews</td>\n",
       "      <td>September 6, 2017</td>\n",
       "      <td>0</td>\n",
       "    </tr>\n",
       "    <tr>\n",
       "      <th>8</th>\n",
       "      <td>Watch NBC’s Andrea Mitchell Get BULLIED Out O...</td>\n",
       "      <td>If one thing has become abundantly clear, it s...</td>\n",
       "      <td>News</td>\n",
       "      <td>March 7, 2017</td>\n",
       "      <td>1</td>\n",
       "    </tr>\n",
       "    <tr>\n",
       "      <th>9</th>\n",
       "      <td>New York protesters camp out at Goldman Sachs ...</td>\n",
       "      <td>NEW YORK (Reuters) - Dozens of protesters gath...</td>\n",
       "      <td>politicsNews</td>\n",
       "      <td>January 18, 2017</td>\n",
       "      <td>0</td>\n",
       "    </tr>\n",
       "  </tbody>\n",
       "</table>\n",
       "</div>\n",
       "    <div class=\"colab-df-buttons\">\n",
       "\n",
       "  <div class=\"colab-df-container\">\n",
       "    <button class=\"colab-df-convert\" onclick=\"convertToInteractive('df-4ec82a7f-b8c5-4427-a2cf-e54621f6a42a')\"\n",
       "            title=\"Convert this dataframe to an interactive table.\"\n",
       "            style=\"display:none;\">\n",
       "\n",
       "  <svg xmlns=\"http://www.w3.org/2000/svg\" height=\"24px\" viewBox=\"0 -960 960 960\">\n",
       "    <path d=\"M120-120v-720h720v720H120Zm60-500h600v-160H180v160Zm220 220h160v-160H400v160Zm0 220h160v-160H400v160ZM180-400h160v-160H180v160Zm440 0h160v-160H620v160ZM180-180h160v-160H180v160Zm440 0h160v-160H620v160Z\"/>\n",
       "  </svg>\n",
       "    </button>\n",
       "\n",
       "  <style>\n",
       "    .colab-df-container {\n",
       "      display:flex;\n",
       "      gap: 12px;\n",
       "    }\n",
       "\n",
       "    .colab-df-convert {\n",
       "      background-color: #E8F0FE;\n",
       "      border: none;\n",
       "      border-radius: 50%;\n",
       "      cursor: pointer;\n",
       "      display: none;\n",
       "      fill: #1967D2;\n",
       "      height: 32px;\n",
       "      padding: 0 0 0 0;\n",
       "      width: 32px;\n",
       "    }\n",
       "\n",
       "    .colab-df-convert:hover {\n",
       "      background-color: #E2EBFA;\n",
       "      box-shadow: 0px 1px 2px rgba(60, 64, 67, 0.3), 0px 1px 3px 1px rgba(60, 64, 67, 0.15);\n",
       "      fill: #174EA6;\n",
       "    }\n",
       "\n",
       "    .colab-df-buttons div {\n",
       "      margin-bottom: 4px;\n",
       "    }\n",
       "\n",
       "    [theme=dark] .colab-df-convert {\n",
       "      background-color: #3B4455;\n",
       "      fill: #D2E3FC;\n",
       "    }\n",
       "\n",
       "    [theme=dark] .colab-df-convert:hover {\n",
       "      background-color: #434B5C;\n",
       "      box-shadow: 0px 1px 3px 1px rgba(0, 0, 0, 0.15);\n",
       "      filter: drop-shadow(0px 1px 2px rgba(0, 0, 0, 0.3));\n",
       "      fill: #FFFFFF;\n",
       "    }\n",
       "  </style>\n",
       "\n",
       "    <script>\n",
       "      const buttonEl =\n",
       "        document.querySelector('#df-4ec82a7f-b8c5-4427-a2cf-e54621f6a42a button.colab-df-convert');\n",
       "      buttonEl.style.display =\n",
       "        google.colab.kernel.accessAllowed ? 'block' : 'none';\n",
       "\n",
       "      async function convertToInteractive(key) {\n",
       "        const element = document.querySelector('#df-4ec82a7f-b8c5-4427-a2cf-e54621f6a42a');\n",
       "        const dataTable =\n",
       "          await google.colab.kernel.invokeFunction('convertToInteractive',\n",
       "                                                    [key], {});\n",
       "        if (!dataTable) return;\n",
       "\n",
       "        const docLinkHtml = 'Like what you see? Visit the ' +\n",
       "          '<a target=\"_blank\" href=https://colab.research.google.com/notebooks/data_table.ipynb>data table notebook</a>'\n",
       "          + ' to learn more about interactive tables.';\n",
       "        element.innerHTML = '';\n",
       "        dataTable['output_type'] = 'display_data';\n",
       "        await google.colab.output.renderOutput(dataTable, element);\n",
       "        const docLink = document.createElement('div');\n",
       "        docLink.innerHTML = docLinkHtml;\n",
       "        element.appendChild(docLink);\n",
       "      }\n",
       "    </script>\n",
       "  </div>\n",
       "\n",
       "\n",
       "    <div id=\"df-8d7c6d58-7095-4984-827b-e73fbcc33b6d\">\n",
       "      <button class=\"colab-df-quickchart\" onclick=\"quickchart('df-8d7c6d58-7095-4984-827b-e73fbcc33b6d')\"\n",
       "                title=\"Suggest charts\"\n",
       "                style=\"display:none;\">\n",
       "\n",
       "<svg xmlns=\"http://www.w3.org/2000/svg\" height=\"24px\"viewBox=\"0 0 24 24\"\n",
       "     width=\"24px\">\n",
       "    <g>\n",
       "        <path d=\"M19 3H5c-1.1 0-2 .9-2 2v14c0 1.1.9 2 2 2h14c1.1 0 2-.9 2-2V5c0-1.1-.9-2-2-2zM9 17H7v-7h2v7zm4 0h-2V7h2v10zm4 0h-2v-4h2v4z\"/>\n",
       "    </g>\n",
       "</svg>\n",
       "      </button>\n",
       "\n",
       "<style>\n",
       "  .colab-df-quickchart {\n",
       "      --bg-color: #E8F0FE;\n",
       "      --fill-color: #1967D2;\n",
       "      --hover-bg-color: #E2EBFA;\n",
       "      --hover-fill-color: #174EA6;\n",
       "      --disabled-fill-color: #AAA;\n",
       "      --disabled-bg-color: #DDD;\n",
       "  }\n",
       "\n",
       "  [theme=dark] .colab-df-quickchart {\n",
       "      --bg-color: #3B4455;\n",
       "      --fill-color: #D2E3FC;\n",
       "      --hover-bg-color: #434B5C;\n",
       "      --hover-fill-color: #FFFFFF;\n",
       "      --disabled-bg-color: #3B4455;\n",
       "      --disabled-fill-color: #666;\n",
       "  }\n",
       "\n",
       "  .colab-df-quickchart {\n",
       "    background-color: var(--bg-color);\n",
       "    border: none;\n",
       "    border-radius: 50%;\n",
       "    cursor: pointer;\n",
       "    display: none;\n",
       "    fill: var(--fill-color);\n",
       "    height: 32px;\n",
       "    padding: 0;\n",
       "    width: 32px;\n",
       "  }\n",
       "\n",
       "  .colab-df-quickchart:hover {\n",
       "    background-color: var(--hover-bg-color);\n",
       "    box-shadow: 0 1px 2px rgba(60, 64, 67, 0.3), 0 1px 3px 1px rgba(60, 64, 67, 0.15);\n",
       "    fill: var(--button-hover-fill-color);\n",
       "  }\n",
       "\n",
       "  .colab-df-quickchart-complete:disabled,\n",
       "  .colab-df-quickchart-complete:disabled:hover {\n",
       "    background-color: var(--disabled-bg-color);\n",
       "    fill: var(--disabled-fill-color);\n",
       "    box-shadow: none;\n",
       "  }\n",
       "\n",
       "  .colab-df-spinner {\n",
       "    border: 2px solid var(--fill-color);\n",
       "    border-color: transparent;\n",
       "    border-bottom-color: var(--fill-color);\n",
       "    animation:\n",
       "      spin 1s steps(1) infinite;\n",
       "  }\n",
       "\n",
       "  @keyframes spin {\n",
       "    0% {\n",
       "      border-color: transparent;\n",
       "      border-bottom-color: var(--fill-color);\n",
       "      border-left-color: var(--fill-color);\n",
       "    }\n",
       "    20% {\n",
       "      border-color: transparent;\n",
       "      border-left-color: var(--fill-color);\n",
       "      border-top-color: var(--fill-color);\n",
       "    }\n",
       "    30% {\n",
       "      border-color: transparent;\n",
       "      border-left-color: var(--fill-color);\n",
       "      border-top-color: var(--fill-color);\n",
       "      border-right-color: var(--fill-color);\n",
       "    }\n",
       "    40% {\n",
       "      border-color: transparent;\n",
       "      border-right-color: var(--fill-color);\n",
       "      border-top-color: var(--fill-color);\n",
       "    }\n",
       "    60% {\n",
       "      border-color: transparent;\n",
       "      border-right-color: var(--fill-color);\n",
       "    }\n",
       "    80% {\n",
       "      border-color: transparent;\n",
       "      border-right-color: var(--fill-color);\n",
       "      border-bottom-color: var(--fill-color);\n",
       "    }\n",
       "    90% {\n",
       "      border-color: transparent;\n",
       "      border-bottom-color: var(--fill-color);\n",
       "    }\n",
       "  }\n",
       "</style>\n",
       "\n",
       "      <script>\n",
       "        async function quickchart(key) {\n",
       "          const quickchartButtonEl =\n",
       "            document.querySelector('#' + key + ' button');\n",
       "          quickchartButtonEl.disabled = true;  // To prevent multiple clicks.\n",
       "          quickchartButtonEl.classList.add('colab-df-spinner');\n",
       "          try {\n",
       "            const charts = await google.colab.kernel.invokeFunction(\n",
       "                'suggestCharts', [key], {});\n",
       "          } catch (error) {\n",
       "            console.error('Error during call to suggestCharts:', error);\n",
       "          }\n",
       "          quickchartButtonEl.classList.remove('colab-df-spinner');\n",
       "          quickchartButtonEl.classList.add('colab-df-quickchart-complete');\n",
       "        }\n",
       "        (() => {\n",
       "          let quickchartButtonEl =\n",
       "            document.querySelector('#df-8d7c6d58-7095-4984-827b-e73fbcc33b6d button');\n",
       "          quickchartButtonEl.style.display =\n",
       "            google.colab.kernel.accessAllowed ? 'block' : 'none';\n",
       "        })();\n",
       "      </script>\n",
       "    </div>\n",
       "\n",
       "    </div>\n",
       "  </div>\n"
      ],
      "text/plain": [
       "                                               title  \\\n",
       "0  Head of Zimbabwe election commission quits, so...   \n",
       "1  House Speaker Ryan plans Harvey aid 'installme...   \n",
       "2  SETH RICH MURDER Has CHILLING SIMILARITIES To ...   \n",
       "3  U.S. tax cuts won't make housing more affordab...   \n",
       "4   Bill Maher Shows America Why Donald Trump Mus...   \n",
       "5  BREAKING! INVESTIGATION: Hillary Clinton Did N...   \n",
       "6  China considers three-year jail terms for disr...   \n",
       "7  Trump administration blacklists three official...   \n",
       "8   Watch NBC’s Andrea Mitchell Get BULLIED Out O...   \n",
       "9  New York protesters camp out at Goldman Sachs ...   \n",
       "\n",
       "                                                text          subject  \\\n",
       "0  HARARE (Reuters) - Zimbabwe Electoral Commissi...        worldnews   \n",
       "1  WASHINGTON (Reuters) - U.S. House of Represent...     politicsNews   \n",
       "2  Just two months shy of the one-year anniversar...        left-news   \n",
       "3  (Reuters) - The U.S. tax overhaul as currently...     politicsNews   \n",
       "4  Bill Maher is not shy about what he thinks of ...             News   \n",
       "5   Was Hillary Clinton negligent or was she doin...  Government News   \n",
       "6  BEIJING (Reuters) - China s largely rubber-sta...        worldnews   \n",
       "7  WASHINGTON (Reuters) - The Trump administratio...        worldnews   \n",
       "8  If one thing has become abundantly clear, it s...             News   \n",
       "9  NEW YORK (Reuters) - Dozens of protesters gath...     politicsNews   \n",
       "\n",
       "                 date  class  \n",
       "0   December 8, 2017       0  \n",
       "1  September 1, 2017       0  \n",
       "2        May 16, 2017      1  \n",
       "3  December 19, 2017       0  \n",
       "4         May 7, 2016      1  \n",
       "5        May 25, 2016      1  \n",
       "6   October 31, 2017       0  \n",
       "7  September 6, 2017       0  \n",
       "8       March 7, 2017      1  \n",
       "9   January 18, 2017       0  "
      ]
     },
     "execution_count": 15,
     "metadata": {},
     "output_type": "execute_result"
    }
   ],
   "source": [
    "# view top 10 rows of processed dataset\n",
    "df.head(10)"
   ]
  },
  {
   "cell_type": "code",
   "execution_count": 39,
   "metadata": {},
   "outputs": [
    {
     "name": "stderr",
     "output_type": "stream",
     "text": [
      "[nltk_data] Downloading package stopwords to\n",
      "[nltk_data]     C:\\Users\\Karan\\AppData\\Roaming\\nltk_data...\n",
      "[nltk_data]   Package stopwords is already up-to-date!\n",
      "[nltk_data] Downloading package wordnet to\n",
      "[nltk_data]     C:\\Users\\Karan\\AppData\\Roaming\\nltk_data...\n",
      "[nltk_data]   Package wordnet is already up-to-date!\n"
     ]
    },
    {
     "name": "stdout",
     "output_type": "stream",
     "text": [
      "                                                text  \\\n",
      "0  21st Century Wire says Ben Stein, reputable pr...   \n",
      "1  WASHINGTON (Reuters) - U.S. President Donald T...   \n",
      "2  (Reuters) - Puerto Rico Governor Ricardo Rosse...   \n",
      "3  On Monday, Donald Trump once again embarrassed...   \n",
      "4  GLASGOW, Scotland (Reuters) - Most U.S. presid...   \n",
      "\n",
      "                                          clean_text  \n",
      "0  st century wire say ben stein reputable profes...  \n",
      "1  washington reuters u president donald trump re...  \n",
      "2  reuters puerto rico governor ricardo rossello ...  \n",
      "3  monday donald trump embarrassed country accide...  \n",
      "4  glasgow scotland reuters u presidential candid...  \n"
     ]
    }
   ],
   "source": [
    "import re\n",
    "from nltk.corpus import stopwords\n",
    "from nltk.stem import WordNetLemmatizer\n",
    "import nltk\n",
    "nltk.download('stopwords')\n",
    "nltk.download('wordnet')\n",
    "lemmatizer = WordNetLemmatizer()\n",
    "stop_words = set(stopwords.words('english'))\n",
    "def preprocess_text(text):\n",
    "    text = str(text).lower()\n",
    "    text = re.sub(r'[^a-zA-Z]', ' ', text)\n",
    "    words = text.split()\n",
    "    words = [lemmatizer.lemmatize(word) for word in words if word not in stop_words]\n",
    "    return ' '.join(words)\n",
    "data['clean_text'] = data['text'].apply(preprocess_text)\n",
    "print(data[['text', 'clean_text']].head())"
   ]
  },
  {
   "cell_type": "markdown",
   "metadata": {
    "id": "lnnRk7xMUJUb"
   },
   "source": [
    "**Q4.** view the text content of a random data point."
   ]
  },
  {
   "cell_type": "code",
   "execution_count": 45,
   "metadata": {
    "id": "QnVr83t9Tqco"
   },
   "outputs": [
    {
     "name": "stdout",
     "output_type": "stream",
     "text": [
      "Random Data Point Index: 9542\n",
      "Original Text (first 100 chars): BEDMINSTER, N.J. (Reuters) - President-elect Donald Trump and 2012 Republican presidential nominee M\n",
      "Preprocessed Text (first 100 chars): bedminster n j reuters president elect donald trump republican presidential nominee mitt romney set \n"
     ]
    }
   ],
   "source": [
    "import random\n",
    "# Pick a random index\n",
    "rand_index = random.randint(0, len(data)-1)\n",
    "print(\"Random Data Point Index:\", rand_index)\n",
    "print(\"Original Text (first 100 chars):\", data['text'][rand_index][:100])\n",
    "print(\"Preprocessed Text (first 100 chars):\", data['clean_text'][rand_index][:100])"
   ]
  },
  {
   "cell_type": "markdown",
   "metadata": {
    "id": "ncmn-qORRCxd"
   },
   "source": [
    "**Data Visualization**"
   ]
  },
  {
   "cell_type": "code",
   "execution_count": null,
   "metadata": {
    "colab": {
     "base_uri": "https://localhost:8080/",
     "height": 539
    },
    "executionInfo": {
     "elapsed": 846,
     "status": "ok",
     "timestamp": 1756730907067,
     "user": {
      "displayName": "Suprava Das",
      "userId": "01263562063563363684"
     },
     "user_tz": -330
    },
    "id": "Ji6diJ8MIzdm",
    "outputId": "ce7cea13-490a-41e3-8b8b-7d47ff0306f8"
   },
   "outputs": [
    {
     "data": {
      "text/plain": [
       "Text(0, 0.5, 'Number of News')"
      ]
     },
     "execution_count": 16,
     "metadata": {},
     "output_type": "execute_result"
    },
    {
     "data": {
      "image/png": "[encoded data removed]",
      "text/plain": [
       "<Figure size 640x480 with 1 Axes>"
      ]
     },
     "metadata": {},
     "output_type": "display_data"
    }
   ],
   "source": [
    "#create a data visualzation of bar/column/line chart of top 5 subjects ->\n",
    "top_5_subjects = (df['subject'].value_counts()).nlargest(5)\n",
    "top_5_subjects.plot(kind='bar', edgecolor='black', stacked=True)\n",
    "plt.xlabel('Subject Name')\n",
    "plt.ylabel('Number of News')"
   ]
  },
  {
   "cell_type": "markdown",
   "metadata": {
    "id": "VKGG5NPoVeMc"
   },
   "source": [
    "**Q5.** Create a pie chart to find the pecentage of news on differenet subject."
   ]
  },
  {
   "cell_type": "code",
   "execution_count": 46,
   "metadata": {
    "id": "Jpm3uqL3V6r8"
   },
   "outputs": [
    {
     "name": "stdout",
     "output_type": "stream",
     "text": [
      "Number of news articles per subject:\n",
      "subject\n",
      "politicsNews       11272\n",
      "worldnews          10145\n",
      "News                9050\n",
      "politics            6841\n",
      "left-news           4459\n",
      "Government News     1570\n",
      "US_News              783\n",
      "Middle-east          778\n",
      "Name: count, dtype: int64\n"
     ]
    },
    {
     "data": {
      "image/png": "[encoded data removed]",
      "text/plain": [
       "<Figure size 800x800 with 1 Axes>"
      ]
     },
     "metadata": {},
     "output_type": "display_data"
    }
   ],
   "source": [
    "import matplotlib.pyplot as plt\n",
    "import pandas as pd\n",
    "# Count number of news articles in each subject\n",
    "subject_counts = data['subject'].value_counts()\n",
    "print(\"Number of news articles per subject:\")\n",
    "print(subject_counts)\n",
    "# Create pie chart\n",
    "plt.figure(figsize=(8,8))\n",
    "plt.pie(subject_counts, \n",
    "        labels=subject_counts.index,      # Subject names\n",
    "        autopct='%1.1f%%',                # Show percentages\n",
    "        startangle=140,                    # Rotate start angle for better view\n",
    "        shadow=True)                       # Optional: adds shadow\n",
    "plt.title(\"Percentage of News on Different Subjects\")\n",
    "plt.show()"
   ]
  },
  {
   "cell_type": "markdown",
   "metadata": {
    "id": "XpYByiMRzkqh"
   },
   "source": [
    "**Text Processing**"
   ]
  },
  {
   "cell_type": "code",
   "execution_count": null,
   "metadata": {
    "id": "VTzJE7XygtnG"
   },
   "outputs": [],
   "source": [
    "# function to remove space,special charecter and convert all text into lower case\n",
    "def wordopt(text):\n",
    "  text = text.lower()\n",
    "  text= re.sub(r'https://\\S+|www\\.\\S+','',text) # remove https:// or www.com\n",
    "  text = re.sub(r'[^\\w]',' ', text) #remove special charecter\n",
    "  text= re.sub(r'\\s+',' ',text) #remove multiple space\n",
    "\n",
    "  return text"
   ]
  },
  {
   "cell_type": "code",
   "execution_count": null,
   "metadata": {
    "id": "CxBAn_R2gYtZ"
   },
   "outputs": [],
   "source": [
    "# drop unnecessary columns for classification purpose\n",
    "df1= df.drop(['title','subject','date'],axis=1)"
   ]
  },
  {
   "cell_type": "code",
   "execution_count": null,
   "metadata": {
    "colab": {
     "base_uri": "https://localhost:8080/",
     "height": 105
    },
    "executionInfo": {
     "elapsed": 43712,
     "status": "ok",
     "timestamp": 1756730950777,
     "user": {
      "displayName": "Suprava Das",
      "userId": "01263562063563363684"
     },
     "user_tz": -330
    },
    "id": "tg5lNxJtGksY",
    "outputId": "33946a03-e1d1-447d-fa06-938c64d7a5ba"
   },
   "outputs": [
    {
     "data": {
      "application/vnd.google.colaboratory.intrinsic+json": {
       "type": "string"
      },
      "text/plain": [
       "'donald trump has been in office for several months now and he still hasn t figured out the proper way to respond to a terrorist attack trump demonstrated his idiocy to the world earlier this week when he responded to the terrorist attack in london by using the tragedy as an opportunity to promote his muslim travel ban trump got blasted on social media for his disgusting insensitive response but top democrat nancy pelosi found the perfect way to slam trump by actually showing him how he should have responded unlike trump pelosi didn t blame london s mayor or use it to promote any agenda her response was completely presidential and serves as a perfect example of how trump should behave while completely humiliating him at the same time in a beautiful statement of solidarity pelosi said today the american people stand in solidarity with the people of the united kingdom and share in the shock and outrage of this brutal attack we send our thoughts and prayers to the fallen the injured and those still waiting for news of their loved ones terrorists will not succeed in dimming the strength and spirit of the people of the united kingdom last night s vile attack the third act of terror to target the united kingdom in three months was met with courage and resilience from first responders and from civilian heroes who refused to be intimidated by violence and hatred and unlike trump pelosi reached out to our allies to send a message of unity instead of divisiveness the united states will continue to proudly work side by side with the u k to defeat terrorist threats and defend the security of all peace loving people may the people of the united kingdom find solace in knowing that the american people stand with them during this difficult time hopefully trump will see pelosi s response and a light bulb will go off in his head but we all know he s incapable of learning from his mistakes so that s not going to happen pelosi s response is the kind of reaction that we d come to expect from our leaders especially after having eight amazing years under former president barack obama unfortunately we ve gone in quite the opposite direction under trump every time there is an incident trump further humiliates america and insults the world with his response featured image via alex wong and win mcnamee getty images'"
      ]
     },
     "execution_count": 19,
     "metadata": {},
     "output_type": "execute_result"
    }
   ],
   "source": [
    "# apply wordopt method to the whole dataset and view the text content of a random data point\n",
    "df1['text']=df1['text'].apply(wordopt)\n",
    "df1['text'][100]"
   ]
  },
  {
   "cell_type": "markdown",
   "metadata": {
    "id": "7zOv17e_5vnY"
   },
   "source": [
    "# **Building Model**"
   ]
  },
  {
   "cell_type": "code",
   "execution_count": null,
   "metadata": {
    "id": "QndHYbDu50RF"
   },
   "outputs": [],
   "source": [
    "# Separate independent and target columns from the dataset and stored them in x & y variables\n",
    "x= df1['text']\n",
    "y= df1['class']"
   ]
  },
  {
   "cell_type": "markdown",
   "metadata": {
    "id": "vdbNrbifWSK1"
   },
   "source": [
    "**Q6.** Split the dataset into training and testing sets with 25% test size and store them in x_train, x_test, y_train, and y_test."
   ]
  },
  {
   "cell_type": "code",
   "execution_count": 11,
   "metadata": {},
   "outputs": [],
   "source": [
    "from sklearn.feature_extraction.text import TfidfVectorizer\n",
    "\n",
    "# Create TF-IDF vectorizer\n",
    "tfidf = TfidfVectorizer(max_features=5000)"
   ]
  },
  {
   "cell_type": "code",
   "execution_count": null,
   "metadata": {},
   "outputs": [],
   "source": [
    "X = tfidf.fit_transform(data['clean_text'])  # Features\n",
    "y = data['label']                            # Labels"
   ]
  },
  {
   "cell_type": "code",
   "execution_count": 44,
   "metadata": {
    "id": "rKDEsZHE6Ab2"
   },
   "outputs": [
    {
     "name": "stdout",
     "output_type": "stream",
     "text": [
      "Training data shape: (33673, 5000)\n",
      "Testing data shape: (11225, 5000)\n"
     ]
    }
   ],
   "source": [
    "from sklearn.model_selection import train_test_split\n",
    "from sklearn.feature_extraction.text import TfidfVectorizer\n",
    "# TF-IDF Vectorizer\n",
    "tfidf = TfidfVectorizer(max_features=5000)\n",
    "# Features\n",
    "X = tfidf.fit_transform(data['clean_text'])  # clean_text column should exist\n",
    "y = data['label']\n",
    "# Split dataset: 75% train, 25% test\n",
    "x_train, x_test, y_train, y_test = train_test_split(\n",
    "    X, y, test_size=0.25, random_state=42, shuffle=True\n",
    ")\n",
    "print(\"Training data shape:\", x_train.shape)\n",
    "print(\"Testing data shape:\", x_test.shape)"
   ]
  },
  {
   "cell_type": "markdown",
   "metadata": {
    "id": "3wRqdiRIkqTe"
   },
   "source": [
    "## **Word Embedding ( Word2Vec )**"
   ]
  },
  {
   "cell_type": "code",
   "execution_count": null,
   "metadata": {
    "colab": {
     "base_uri": "https://localhost:8080/",
     "height": 164
    },
    "executionInfo": {
     "elapsed": 2348,
     "status": "ok",
     "timestamp": 1756730953129,
     "user": {
      "displayName": "Suprava Das",
      "userId": "01263562063563363684"
     },
     "user_tz": -330
    },
    "id": "SdpOD3v-mLmT",
    "outputId": "c70caec2-0926-4ae2-95cf-8e2a5edb7568"
   },
   "outputs": [
    {
     "name": "stdout",
     "output_type": "stream",
     "text": [
      "Size of Word Dictonary for training Word2Vec:  15825\n"
     ]
    },
    {
     "data": {
      "text/html": [
       "<div>\n",
       "<style scoped>\n",
       "    .dataframe tbody tr th:only-of-type {\n",
       "        vertical-align: middle;\n",
       "    }\n",
       "\n",
       "    .dataframe tbody tr th {\n",
       "        vertical-align: top;\n",
       "    }\n",
       "\n",
       "    .dataframe thead th {\n",
       "        text-align: right;\n",
       "    }\n",
       "</style>\n",
       "<table border=\"1\" class=\"dataframe\">\n",
       "  <thead>\n",
       "    <tr style=\"text-align: right;\">\n",
       "      <th></th>\n",
       "      <th>content</th>\n",
       "    </tr>\n",
       "  </thead>\n",
       "  <tbody>\n",
       "    <tr>\n",
       "      <th>0</th>\n",
       "      <td>The heroin substitute methadone can be used as...</td>\n",
       "    </tr>\n",
       "    <tr>\n",
       "      <th>1</th>\n",
       "      <td>The eldest son of North Korean leader Kim Jong...</td>\n",
       "    </tr>\n",
       "  </tbody>\n",
       "</table>\n",
       "</div><br><label><b>dtype:</b> object</label>"
      ],
      "text/plain": [
       "0    The heroin substitute methadone can be used as...\n",
       "1    The eldest son of North Korean leader Kim Jong...\n",
       "Name: content, dtype: object"
      ]
     },
     "execution_count": 22,
     "metadata": {},
     "output_type": "execute_result"
    }
   ],
   "source": [
    "# import bbc_news data using url link in json format for training Word2Vec word embedding model\n",
    "news = pd.read_json('https://query.data.world/s/7c6p2lxb3wjibfsfbp4mwy7p7y4y2d?dws=00000')\n",
    "news_seg = news['content']\n",
    "print(\"Size of Word Dictonary for training Word2Vec: \",news_seg.shape[0])\n",
    "news_seg.head(2)"
   ]
  },
  {
   "cell_type": "code",
   "execution_count": null,
   "metadata": {
    "id": "AsJm3KoQQqVg"
   },
   "outputs": [],
   "source": [
    "# apply wordopt function for text processing\n",
    "news_seg=news_seg.apply(wordopt)\n",
    "sentences = [sentence.split() for sentence in news_seg ]\n",
    "w2v_model = Word2Vec(sentences,  window=5, min_count=5, workers=4)"
   ]
  },
  {
   "cell_type": "code",
   "execution_count": null,
   "metadata": {
    "id": "lArJrYw97x1y"
   },
   "outputs": [],
   "source": [
    "# function to convert a sentence into vector form\n",
    "def vectorize(sentence):\n",
    "    words = sentence.split()\n",
    "    words_vecs = [w2v_model.wv[word] for word in words if word in w2v_model.wv]\n",
    "    if len(words_vecs) == 0:\n",
    "        return np.zeros(100)\n",
    "    words_vecs = np.array(words_vecs)\n",
    "    return words_vecs.mean(axis=0)"
   ]
  },
  {
   "cell_type": "code",
   "execution_count": null,
   "metadata": {
    "id": "NWzl8y8uldSE"
   },
   "outputs": [],
   "source": [
    "# convert train and test dataset into vector form\n",
    "xv_train = np.array([vectorize(sentence) for sentence in x_train])\n",
    "xv_test = np.array([vectorize(sentence) for sentence in x_test])"
   ]
  },
  {
   "cell_type": "markdown",
   "metadata": {
    "id": "VzFibvAbYktA"
   },
   "source": [
    "##**Logistic Regression**"
   ]
  },
  {
   "cell_type": "code",
   "execution_count": null,
   "metadata": {
    "colab": {
     "base_uri": "https://localhost:8080/",
     "height": 80
    },
    "executionInfo": {
     "elapsed": 981,
     "status": "ok",
     "timestamp": 1756731054773,
     "user": {
      "displayName": "Suprava Das",
      "userId": "01263562063563363684"
     },
     "user_tz": -330
    },
    "id": "DEuVqu0P7KnJ",
    "outputId": "45c69f1f-a0c1-43a4-fe77-566377efb315"
   },
   "outputs": [
    {
     "data": {
      "text/html": [
       "<style>#sk-container-id-1 {\n",
       "  /* Definition of color scheme common for light and dark mode */\n",
       "  --sklearn-color-text: #000;\n",
       "  --sklearn-color-text-muted: #666;\n",
       "  --sklearn-color-line: gray;\n",
       "  /* Definition of color scheme for unfitted estimators */\n",
       "  --sklearn-color-unfitted-level-0: #fff5e6;\n",
       "  --sklearn-color-unfitted-level-1: #f6e4d2;\n",
       "  --sklearn-color-unfitted-level-2: #ffe0b3;\n",
       "  --sklearn-color-unfitted-level-3: chocolate;\n",
       "  /* Definition of color scheme for fitted estimators */\n",
       "  --sklearn-color-fitted-level-0: #f0f8ff;\n",
       "  --sklearn-color-fitted-level-1: #d4ebff;\n",
       "  --sklearn-color-fitted-level-2: #b3dbfd;\n",
       "  --sklearn-color-fitted-level-3: cornflowerblue;\n",
       "\n",
       "  /* Specific color for light theme */\n",
       "  --sklearn-color-text-on-default-background: var(--sg-text-color, var(--theme-code-foreground, var(--jp-content-font-color1, black)));\n",
       "  --sklearn-color-background: var(--sg-background-color, var(--theme-background, var(--jp-layout-color0, white)));\n",
       "  --sklearn-color-border-box: var(--sg-text-color, var(--theme-code-foreground, var(--jp-content-font-color1, black)));\n",
       "  --sklearn-color-icon: #696969;\n",
       "\n",
       "  @media (prefers-color-scheme: dark) {\n",
       "    /* Redefinition of color scheme for dark theme */\n",
       "    --sklearn-color-text-on-default-background: var(--sg-text-color, var(--theme-code-foreground, var(--jp-content-font-color1, white)));\n",
       "    --sklearn-color-background: var(--sg-background-color, var(--theme-background, var(--jp-layout-color0, #111)));\n",
       "    --sklearn-color-border-box: var(--sg-text-color, var(--theme-code-foreground, var(--jp-content-font-color1, white)));\n",
       "    --sklearn-color-icon: #878787;\n",
       "  }\n",
       "}\n",
       "\n",
       "#sk-container-id-1 {\n",
       "  color: var(--sklearn-color-text);\n",
       "}\n",
       "\n",
       "#sk-container-id-1 pre {\n",
       "  padding: 0;\n",
       "}\n",
       "\n",
       "#sk-container-id-1 input.sk-hidden--visually {\n",
       "  border: 0;\n",
       "  clip: rect(1px 1px 1px 1px);\n",
       "  clip: rect(1px, 1px, 1px, 1px);\n",
       "  height: 1px;\n",
       "  margin: -1px;\n",
       "  overflow: hidden;\n",
       "  padding: 0;\n",
       "  position: absolute;\n",
       "  width: 1px;\n",
       "}\n",
       "\n",
       "#sk-container-id-1 div.sk-dashed-wrapped {\n",
       "  border: 1px dashed var(--sklearn-color-line);\n",
       "  margin: 0 0.4em 0.5em 0.4em;\n",
       "  box-sizing: border-box;\n",
       "  padding-bottom: 0.4em;\n",
       "  background-color: var(--sklearn-color-background);\n",
       "}\n",
       "\n",
       "#sk-container-id-1 div.sk-container {\n",
       "  /* jupyter's `normalize.less` sets `[hidden] { display: none; }`\n",
       "     but bootstrap.min.css set `[hidden] { display: none !important; }`\n",
       "     so we also need the `!important` here to be able to override the\n",
       "     default hidden behavior on the sphinx rendered scikit-learn.org.\n",
       "     See: https://github.com/scikit-learn/scikit-learn/issues/21755 */\n",
       "  display: inline-block !important;\n",
       "  position: relative;\n",
       "}\n",
       "\n",
       "#sk-container-id-1 div.sk-text-repr-fallback {\n",
       "  display: none;\n",
       "}\n",
       "\n",
       "div.sk-parallel-item,\n",
       "div.sk-serial,\n",
       "div.sk-item {\n",
       "  /* draw centered vertical line to link estimators */\n",
       "  background-image: linear-gradient(var(--sklearn-color-text-on-default-background), var(--sklearn-color-text-on-default-background));\n",
       "  background-size: 2px 100%;\n",
       "  background-repeat: no-repeat;\n",
       "  background-position: center center;\n",
       "}\n",
       "\n",
       "/* Parallel-specific style estimator block */\n",
       "\n",
       "#sk-container-id-1 div.sk-parallel-item::after {\n",
       "  content: \"\";\n",
       "  width: 100%;\n",
       "  border-bottom: 2px solid var(--sklearn-color-text-on-default-background);\n",
       "  flex-grow: 1;\n",
       "}\n",
       "\n",
       "#sk-container-id-1 div.sk-parallel {\n",
       "  display: flex;\n",
       "  align-items: stretch;\n",
       "  justify-content: center;\n",
       "  background-color: var(--sklearn-color-background);\n",
       "  position: relative;\n",
       "}\n",
       "\n",
       "#sk-container-id-1 div.sk-parallel-item {\n",
       "  display: flex;\n",
       "  flex-direction: column;\n",
       "}\n",
       "\n",
       "#sk-container-id-1 div.sk-parallel-item:first-child::after {\n",
       "  align-self: flex-end;\n",
       "  width: 50%;\n",
       "}\n",
       "\n",
       "#sk-container-id-1 div.sk-parallel-item:last-child::after {\n",
       "  align-self: flex-start;\n",
       "  width: 50%;\n",
       "}\n",
       "\n",
       "#sk-container-id-1 div.sk-parallel-item:only-child::after {\n",
       "  width: 0;\n",
       "}\n",
       "\n",
       "/* Serial-specific style estimator block */\n",
       "\n",
       "#sk-container-id-1 div.sk-serial {\n",
       "  display: flex;\n",
       "  flex-direction: column;\n",
       "  align-items: center;\n",
       "  background-color: var(--sklearn-color-background);\n",
       "  padding-right: 1em;\n",
       "  padding-left: 1em;\n",
       "}\n",
       "\n",
       "\n",
       "/* Toggleable style: style used for estimator/Pipeline/ColumnTransformer box that is\n",
       "clickable and can be expanded/collapsed.\n",
       "- Pipeline and ColumnTransformer use this feature and define the default style\n",
       "- Estimators will overwrite some part of the style using the `sk-estimator` class\n",
       "*/\n",
       "\n",
       "/* Pipeline and ColumnTransformer style (default) */\n",
       "\n",
       "#sk-container-id-1 div.sk-toggleable {\n",
       "  /* Default theme specific background. It is overwritten whether we have a\n",
       "  specific estimator or a Pipeline/ColumnTransformer */\n",
       "  background-color: var(--sklearn-color-background);\n",
       "}\n",
       "\n",
       "/* Toggleable label */\n",
       "#sk-container-id-1 label.sk-toggleable__label {\n",
       "  cursor: pointer;\n",
       "  display: flex;\n",
       "  width: 100%;\n",
       "  margin-bottom: 0;\n",
       "  padding: 0.5em;\n",
       "  box-sizing: border-box;\n",
       "  text-align: center;\n",
       "  align-items: start;\n",
       "  justify-content: space-between;\n",
       "  gap: 0.5em;\n",
       "}\n",
       "\n",
       "#sk-container-id-1 label.sk-toggleable__label .caption {\n",
       "  font-size: 0.6rem;\n",
       "  font-weight: lighter;\n",
       "  color: var(--sklearn-color-text-muted);\n",
       "}\n",
       "\n",
       "#sk-container-id-1 label.sk-toggleable__label-arrow:before {\n",
       "  /* Arrow on the left of the label */\n",
       "  content: \"▸\";\n",
       "  float: left;\n",
       "  margin-right: 0.25em;\n",
       "  color: var(--sklearn-color-icon);\n",
       "}\n",
       "\n",
       "#sk-container-id-1 label.sk-toggleable__label-arrow:hover:before {\n",
       "  color: var(--sklearn-color-text);\n",
       "}\n",
       "\n",
       "/* Toggleable content - dropdown */\n",
       "\n",
       "#sk-container-id-1 div.sk-toggleable__content {\n",
       "  max-height: 0;\n",
       "  max-width: 0;\n",
       "  overflow: hidden;\n",
       "  text-align: left;\n",
       "  /* unfitted */\n",
       "  background-color: var(--sklearn-color-unfitted-level-0);\n",
       "}\n",
       "\n",
       "#sk-container-id-1 div.sk-toggleable__content.fitted {\n",
       "  /* fitted */\n",
       "  background-color: var(--sklearn-color-fitted-level-0);\n",
       "}\n",
       "\n",
       "#sk-container-id-1 div.sk-toggleable__content pre {\n",
       "  margin: 0.2em;\n",
       "  border-radius: 0.25em;\n",
       "  color: var(--sklearn-color-text);\n",
       "  /* unfitted */\n",
       "  background-color: var(--sklearn-color-unfitted-level-0);\n",
       "}\n",
       "\n",
       "#sk-container-id-1 div.sk-toggleable__content.fitted pre {\n",
       "  /* unfitted */\n",
       "  background-color: var(--sklearn-color-fitted-level-0);\n",
       "}\n",
       "\n",
       "#sk-container-id-1 input.sk-toggleable__control:checked~div.sk-toggleable__content {\n",
       "  /* Expand drop-down */\n",
       "  max-height: 200px;\n",
       "  max-width: 100%;\n",
       "  overflow: auto;\n",
       "}\n",
       "\n",
       "#sk-container-id-1 input.sk-toggleable__control:checked~label.sk-toggleable__label-arrow:before {\n",
       "  content: \"▾\";\n",
       "}\n",
       "\n",
       "/* Pipeline/ColumnTransformer-specific style */\n",
       "\n",
       "#sk-container-id-1 div.sk-label input.sk-toggleable__control:checked~label.sk-toggleable__label {\n",
       "  color: var(--sklearn-color-text);\n",
       "  background-color: var(--sklearn-color-unfitted-level-2);\n",
       "}\n",
       "\n",
       "#sk-container-id-1 div.sk-label.fitted input.sk-toggleable__control:checked~label.sk-toggleable__label {\n",
       "  background-color: var(--sklearn-color-fitted-level-2);\n",
       "}\n",
       "\n",
       "/* Estimator-specific style */\n",
       "\n",
       "/* Colorize estimator box */\n",
       "#sk-container-id-1 div.sk-estimator input.sk-toggleable__control:checked~label.sk-toggleable__label {\n",
       "  /* unfitted */\n",
       "  background-color: var(--sklearn-color-unfitted-level-2);\n",
       "}\n",
       "\n",
       "#sk-container-id-1 div.sk-estimator.fitted input.sk-toggleable__control:checked~label.sk-toggleable__label {\n",
       "  /* fitted */\n",
       "  background-color: var(--sklearn-color-fitted-level-2);\n",
       "}\n",
       "\n",
       "#sk-container-id-1 div.sk-label label.sk-toggleable__label,\n",
       "#sk-container-id-1 div.sk-label label {\n",
       "  /* The background is the default theme color */\n",
       "  color: var(--sklearn-color-text-on-default-background);\n",
       "}\n",
       "\n",
       "/* On hover, darken the color of the background */\n",
       "#sk-container-id-1 div.sk-label:hover label.sk-toggleable__label {\n",
       "  color: var(--sklearn-color-text);\n",
       "  background-color: var(--sklearn-color-unfitted-level-2);\n",
       "}\n",
       "\n",
       "/* Label box, darken color on hover, fitted */\n",
       "#sk-container-id-1 div.sk-label.fitted:hover label.sk-toggleable__label.fitted {\n",
       "  color: var(--sklearn-color-text);\n",
       "  background-color: var(--sklearn-color-fitted-level-2);\n",
       "}\n",
       "\n",
       "/* Estimator label */\n",
       "\n",
       "#sk-container-id-1 div.sk-label label {\n",
       "  font-family: monospace;\n",
       "  font-weight: bold;\n",
       "  display: inline-block;\n",
       "  line-height: 1.2em;\n",
       "}\n",
       "\n",
       "#sk-container-id-1 div.sk-label-container {\n",
       "  text-align: center;\n",
       "}\n",
       "\n",
       "/* Estimator-specific */\n",
       "#sk-container-id-1 div.sk-estimator {\n",
       "  font-family: monospace;\n",
       "  border: 1px dotted var(--sklearn-color-border-box);\n",
       "  border-radius: 0.25em;\n",
       "  box-sizing: border-box;\n",
       "  margin-bottom: 0.5em;\n",
       "  /* unfitted */\n",
       "  background-color: var(--sklearn-color-unfitted-level-0);\n",
       "}\n",
       "\n",
       "#sk-container-id-1 div.sk-estimator.fitted {\n",
       "  /* fitted */\n",
       "  background-color: var(--sklearn-color-fitted-level-0);\n",
       "}\n",
       "\n",
       "/* on hover */\n",
       "#sk-container-id-1 div.sk-estimator:hover {\n",
       "  /* unfitted */\n",
       "  background-color: var(--sklearn-color-unfitted-level-2);\n",
       "}\n",
       "\n",
       "#sk-container-id-1 div.sk-estimator.fitted:hover {\n",
       "  /* fitted */\n",
       "  background-color: var(--sklearn-color-fitted-level-2);\n",
       "}\n",
       "\n",
       "/* Specification for estimator info (e.g. \"i\" and \"?\") */\n",
       "\n",
       "/* Common style for \"i\" and \"?\" */\n",
       "\n",
       ".sk-estimator-doc-link,\n",
       "a:link.sk-estimator-doc-link,\n",
       "a:visited.sk-estimator-doc-link {\n",
       "  float: right;\n",
       "  font-size: smaller;\n",
       "  line-height: 1em;\n",
       "  font-family: monospace;\n",
       "  background-color: var(--sklearn-color-background);\n",
       "  border-radius: 1em;\n",
       "  height: 1em;\n",
       "  width: 1em;\n",
       "  text-decoration: none !important;\n",
       "  margin-left: 0.5em;\n",
       "  text-align: center;\n",
       "  /* unfitted */\n",
       "  border: var(--sklearn-color-unfitted-level-1) 1pt solid;\n",
       "  color: var(--sklearn-color-unfitted-level-1);\n",
       "}\n",
       "\n",
       ".sk-estimator-doc-link.fitted,\n",
       "a:link.sk-estimator-doc-link.fitted,\n",
       "a:visited.sk-estimator-doc-link.fitted {\n",
       "  /* fitted */\n",
       "  border: var(--sklearn-color-fitted-level-1) 1pt solid;\n",
       "  color: var(--sklearn-color-fitted-level-1);\n",
       "}\n",
       "\n",
       "/* On hover */\n",
       "div.sk-estimator:hover .sk-estimator-doc-link:hover,\n",
       ".sk-estimator-doc-link:hover,\n",
       "div.sk-label-container:hover .sk-estimator-doc-link:hover,\n",
       ".sk-estimator-doc-link:hover {\n",
       "  /* unfitted */\n",
       "  background-color: var(--sklearn-color-unfitted-level-3);\n",
       "  color: var(--sklearn-color-background);\n",
       "  text-decoration: none;\n",
       "}\n",
       "\n",
       "div.sk-estimator.fitted:hover .sk-estimator-doc-link.fitted:hover,\n",
       ".sk-estimator-doc-link.fitted:hover,\n",
       "div.sk-label-container:hover .sk-estimator-doc-link.fitted:hover,\n",
       ".sk-estimator-doc-link.fitted:hover {\n",
       "  /* fitted */\n",
       "  background-color: var(--sklearn-color-fitted-level-3);\n",
       "  color: var(--sklearn-color-background);\n",
       "  text-decoration: none;\n",
       "}\n",
       "\n",
       "/* Span, style for the box shown on hovering the info icon */\n",
       ".sk-estimator-doc-link span {\n",
       "  display: none;\n",
       "  z-index: 9999;\n",
       "  position: relative;\n",
       "  font-weight: normal;\n",
       "  right: .2ex;\n",
       "  padding: .5ex;\n",
       "  margin: .5ex;\n",
       "  width: min-content;\n",
       "  min-width: 20ex;\n",
       "  max-width: 50ex;\n",
       "  color: var(--sklearn-color-text);\n",
       "  box-shadow: 2pt 2pt 4pt #999;\n",
       "  /* unfitted */\n",
       "  background: var(--sklearn-color-unfitted-level-0);\n",
       "  border: .5pt solid var(--sklearn-color-unfitted-level-3);\n",
       "}\n",
       "\n",
       ".sk-estimator-doc-link.fitted span {\n",
       "  /* fitted */\n",
       "  background: var(--sklearn-color-fitted-level-0);\n",
       "  border: var(--sklearn-color-fitted-level-3);\n",
       "}\n",
       "\n",
       ".sk-estimator-doc-link:hover span {\n",
       "  display: block;\n",
       "}\n",
       "\n",
       "/* \"?\"-specific style due to the `<a>` HTML tag */\n",
       "\n",
       "#sk-container-id-1 a.estimator_doc_link {\n",
       "  float: right;\n",
       "  font-size: 1rem;\n",
       "  line-height: 1em;\n",
       "  font-family: monospace;\n",
       "  background-color: var(--sklearn-color-background);\n",
       "  border-radius: 1rem;\n",
       "  height: 1rem;\n",
       "  width: 1rem;\n",
       "  text-decoration: none;\n",
       "  /* unfitted */\n",
       "  color: var(--sklearn-color-unfitted-level-1);\n",
       "  border: var(--sklearn-color-unfitted-level-1) 1pt solid;\n",
       "}\n",
       "\n",
       "#sk-container-id-1 a.estimator_doc_link.fitted {\n",
       "  /* fitted */\n",
       "  border: var(--sklearn-color-fitted-level-1) 1pt solid;\n",
       "  color: var(--sklearn-color-fitted-level-1);\n",
       "}\n",
       "\n",
       "/* On hover */\n",
       "#sk-container-id-1 a.estimator_doc_link:hover {\n",
       "  /* unfitted */\n",
       "  background-color: var(--sklearn-color-unfitted-level-3);\n",
       "  color: var(--sklearn-color-background);\n",
       "  text-decoration: none;\n",
       "}\n",
       "\n",
       "#sk-container-id-1 a.estimator_doc_link.fitted:hover {\n",
       "  /* fitted */\n",
       "  background-color: var(--sklearn-color-fitted-level-3);\n",
       "}\n",
       "</style><div id=\"sk-container-id-1\" class=\"sk-top-container\"><div class=\"sk-text-repr-fallback\"><pre>LogisticRegression()</pre><b>In a Jupyter environment, please rerun this cell to show the HTML representation or trust the notebook. <br />On GitHub, the HTML representation is unable to render, please try loading this page with nbviewer.org.</b></div><div class=\"sk-container\" hidden><div class=\"sk-item\"><div class=\"sk-estimator fitted sk-toggleable\"><input class=\"sk-toggleable__control sk-hidden--visually\" id=\"sk-estimator-id-1\" type=\"checkbox\" checked><label for=\"sk-estimator-id-1\" class=\"sk-toggleable__label fitted sk-toggleable__label-arrow\"><div><div>LogisticRegression</div></div><div><a class=\"sk-estimator-doc-link fitted\" rel=\"noreferrer\" target=\"_blank\" href=\"https://scikit-learn.org/1.6/modules/generated/sklearn.linear_model.LogisticRegression.html\">?<span>Documentation for LogisticRegression</span></a><span class=\"sk-estimator-doc-link fitted\">i<span>Fitted</span></span></div></label><div class=\"sk-toggleable__content fitted\"><pre>LogisticRegression()</pre></div> </div></div></div></div>"
      ],
      "text/plain": [
       "LogisticRegression()"
      ]
     },
     "execution_count": 26,
     "metadata": {},
     "output_type": "execute_result"
    }
   ],
   "source": [
    "# Trains a Logistic Regression model using vector formed trained data ->\n",
    "from sklearn.linear_model import LogisticRegression\n",
    "logistic_model = LogisticRegression()\n",
    "logistic_model.fit(xv_train,y_train)"
   ]
  },
  {
   "cell_type": "code",
   "execution_count": null,
   "metadata": {
    "colab": {
     "base_uri": "https://localhost:8080/"
    },
    "executionInfo": {
     "elapsed": 30,
     "status": "ok",
     "timestamp": 1756731054805,
     "user": {
      "displayName": "Suprava Das",
      "userId": "01263562063563363684"
     },
     "user_tz": -330
    },
    "id": "uq6D891a7oTo",
    "outputId": "0c54223c-0db4-4100-cc5a-09a8b1187e0a"
   },
   "outputs": [
    {
     "name": "stdout",
     "output_type": "stream",
     "text": [
      "Prediction on test data:  [1 1 1 ... 1 1 0]\n",
      "Accuracy Score on Test Data:  0.9387973273942094\n"
     ]
    }
   ],
   "source": [
    "# detect the class(fake or true) on test data and evaluates its accuracy on test set\n",
    "y_pred = logistic_model.predict(xv_test)\n",
    "print(\"Prediction on test data: \",y_pred)\n",
    "print(\"Accuracy Score on Test Data: \",logistic_model.score(xv_test,y_test))"
   ]
  },
  {
   "cell_type": "markdown",
   "metadata": {
    "id": "yJdKrQTFnK1Z"
   },
   "source": [
    "####**Accuracy Checking**"
   ]
  },
  {
   "cell_type": "code",
   "execution_count": null,
   "metadata": {
    "colab": {
     "base_uri": "https://localhost:8080/"
    },
    "executionInfo": {
     "elapsed": 31,
     "status": "ok",
     "timestamp": 1756731054839,
     "user": {
      "displayName": "Suprava Das",
      "userId": "01263562063563363684"
     },
     "user_tz": -330
    },
    "id": "0VA7sBRdnR-k",
    "outputId": "37f82468-a48b-4766-89b2-78b6674694bd"
   },
   "outputs": [
    {
     "name": "stdout",
     "output_type": "stream",
     "text": [
      "Accuracy: 0.9387973273942094\n",
      "Precision: 0.9442124603307166\n",
      "Recall: 0.9412254412254413\n",
      "F1 score: 0.9427165846743933\n"
     ]
    }
   ],
   "source": [
    "# Check Precision, Recall, F1 Score of the logistic model ->\n",
    "print('Accuracy:', accuracy_score(y_test, y_pred))\n",
    "print('Precision:', precision_score(y_test, y_pred))\n",
    "print('Recall:', recall_score(y_test, y_pred))\n",
    "print('F1 score:', f1_score(y_test, y_pred))"
   ]
  },
  {
   "cell_type": "code",
   "execution_count": null,
   "metadata": {
    "colab": {
     "base_uri": "https://localhost:8080/",
     "height": 449
    },
    "executionInfo": {
     "elapsed": 232,
     "status": "ok",
     "timestamp": 1756731055072,
     "user": {
      "displayName": "Suprava Das",
      "userId": "01263562063563363684"
     },
     "user_tz": -330
    },
    "id": "AoxgjMi7Y9HD",
    "outputId": "dd1c799b-84fc-4913-aee1-0285b5f7ea9c"
   },
   "outputs": [
    {
     "data": {
      "image/png": "[encoded data removed]",
      "text/plain": [
       "<Figure size 640x480 with 2 Axes>"
      ]
     },
     "metadata": {},
     "output_type": "display_data"
    }
   ],
   "source": [
    "# Check overall accuracy using confusion matrix\n",
    "from sklearn.metrics import confusion_matrix,ConfusionMatrixDisplay\n",
    "cm= confusion_matrix(y_test,y_pred)\n",
    "cm_display = ConfusionMatrixDisplay(confusion_matrix = cm)\n",
    "cm_display.plot()\n",
    "plt.show()"
   ]
  },
  {
   "cell_type": "markdown",
   "metadata": {
    "id": "4mLirHL-J4kT"
   },
   "source": [
    "##**Random Forest Classifier**"
   ]
  },
  {
   "cell_type": "markdown",
   "metadata": {
    "id": "XvJgJX0yYG0M"
   },
   "source": [
    "####**Model Building and Prediction**"
   ]
  },
  {
   "cell_type": "markdown",
   "metadata": {
    "id": "OpT7bxd9XfYM"
   },
   "source": [
    "**Q7.** Use Random Forest Classifer for this classfication purpose and predict the outcomes for test data."
   ]
  },
  {
   "cell_type": "code",
   "execution_count": 47,
   "metadata": {
    "id": "pBkqgPskKf6f"
   },
   "outputs": [
    {
     "name": "stdout",
     "output_type": "stream",
     "text": [
      "Random Forest Accuracy: 0.9970601336302896\n",
      "\n",
      "Confusion Matrix:\n",
      " [[5350   12]\n",
      " [  21 5842]]\n",
      "\n",
      "Classification Report:\n",
      "               precision    recall  f1-score   support\n",
      "\n",
      "           0       1.00      1.00      1.00      5362\n",
      "           1       1.00      1.00      1.00      5863\n",
      "\n",
      "    accuracy                           1.00     11225\n",
      "   macro avg       1.00      1.00      1.00     11225\n",
      "weighted avg       1.00      1.00      1.00     11225\n",
      "\n"
     ]
    }
   ],
   "source": [
    "from sklearn.ensemble import RandomForestClassifier\n",
    "from sklearn.metrics import accuracy_score, confusion_matrix, classification_report\n",
    "# Step 1: Initialize Random Forest\n",
    "rf_model = RandomForestClassifier(n_estimators=100, random_state=42)\n",
    "# Step 2: Train model on training data\n",
    "rf_model.fit(x_train, y_train)\n",
    "# Step 3: Predict on test data\n",
    "y_pred = rf_model.predict(x_test)\n",
    "# Step 4: Evaluate model\n",
    "accuracy = accuracy_score(y_test, y_pred)\n",
    "conf_matrix = confusion_matrix(y_test, y_pred)\n",
    "class_report = classification_report(y_test, y_pred)\n",
    "print(\"Random Forest Accuracy:\", accuracy)\n",
    "print(\"\\nConfusion Matrix:\\n\", conf_matrix)\n",
    "print(\"\\nClassification Report:\\n\", class_report)"
   ]
  },
  {
   "cell_type": "markdown",
   "metadata": {
    "id": "fdpRN0MzLJQv"
   },
   "source": [
    "####**Accuracy Checking**"
   ]
  },
  {
   "cell_type": "markdown",
   "metadata": {
    "id": "lyg4B7b3YX-1"
   },
   "source": [
    "**Q8.** Find the accuracy, precison, recall, F1 Score of the model while using Random Forest Classsifier and visualize overall accuracy using confusion matrix."
   ]
  },
  {
   "cell_type": "code",
   "execution_count": 24,
   "metadata": {
    "id": "-saxkm_FKe8X"
   },
   "outputs": [
    {
     "name": "stdout",
     "output_type": "stream",
     "text": [
      "Random Forest Performance Metrics:\n",
      "Accuracy : 0.9969710467706013\n",
      "Precision: 0.9966442953020134\n",
      "Recall   : 0.9970160387914957\n",
      "F1 Score : 0.9968301323885885\n"
     ]
    },
    {
     "data": {
      "image/png": "[encoded data removed]",
      "text/plain": [
       "<Figure size 600x500 with 2 Axes>"
      ]
     },
     "metadata": {},
     "output_type": "display_data"
    }
   ],
   "source": [
    "import matplotlib.pyplot as plt\n",
    "import seaborn as sns\n",
    "from sklearn.metrics import accuracy_score, precision_score, recall_score, f1_score, confusion_matrix\n",
    "\n",
    "# Step 1: Accuracy, Precision, Recall, F1-score\n",
    "accuracy = accuracy_score(y_test, y_pred)\n",
    "precision = precision_score(y_test, y_pred, pos_label='REAL')\n",
    "recall = recall_score(y_test, y_pred, pos_label='REAL')\n",
    "f1 = f1_score(y_test, y_pred, pos_label='REAL')\n",
    "\n",
    "print(\"Random Forest Performance Metrics:\")\n",
    "print(\"Accuracy :\", accuracy)\n",
    "print(\"Precision:\", precision)\n",
    "print(\"Recall   :\", recall)\n",
    "print(\"F1 Score :\", f1)\n",
    "\n",
    "# Step 2: Confusion Matrix Visualization\n",
    "conf_matrix = confusion_matrix(y_test, y_pred, labels=['FAKE', 'REAL'])\n",
    "plt.figure(figsize=(6,5))\n",
    "sns.heatmap(conf_matrix, annot=True, fmt='d', cmap='Blues',\n",
    "            xticklabels=['FAKE', 'REAL'], yticklabels=['FAKE', 'REAL'])\n",
    "plt.xlabel(\"Predicted\")\n",
    "plt.ylabel(\"Actual\")\n",
    "plt.title(\"Confusion Matrix - Random Forest\")\n",
    "plt.show()"
   ]
  },
  {
   "cell_type": "markdown",
   "metadata": {
    "id": "L_2hK8LyR1Kj"
   },
   "source": [
    "#**Save the Model using pickle**"
   ]
  },
  {
   "cell_type": "code",
   "execution_count": null,
   "metadata": {
    "id": "pcmzkeaDGTfH"
   },
   "outputs": [],
   "source": [
    "# save the logistic regression model as pickle file\n",
    "import pickle\n",
    "filename1 = '/content/drive/My Drive/IDEAS-TIH/Internship_2025/word2vec_logistic_model.pickle'\n",
    "pickle.dump(logistic_model, open(filename1, 'wb')) #word2vec model"
   ]
  },
  {
   "cell_type": "code",
   "execution_count": null,
   "metadata": {
    "colab": {
     "base_uri": "https://localhost:8080/"
    },
    "executionInfo": {
     "elapsed": 37,
     "status": "ok",
     "timestamp": 1756731074815,
     "user": {
      "displayName": "Suprava Das",
      "userId": "01263562063563363684"
     },
     "user_tz": -330
    },
    "id": "Y4dOB8p4HMqP",
    "outputId": "6d56ca3c-c535-4831-d8e7-b8a1c977d458"
   },
   "outputs": [
    {
     "name": "stdout",
     "output_type": "stream",
     "text": [
      "0.9387973273942094\n"
     ]
    }
   ],
   "source": [
    "# Load the pickle file and checkout model score\n",
    "loaded_model = pickle.load(open(filename1, 'rb'))\n",
    "result = loaded_model.score(xv_test, y_test)\n",
    "print(result)"
   ]
  },
  {
   "cell_type": "markdown",
   "metadata": {
    "id": "z5L4E0AxZGZN"
   },
   "source": [
    "**Q9.** Save the trained Random Forest Model as pickle/svg file in your desired repository for further use."
   ]
  },
  {
   "cell_type": "code",
   "execution_count": 25,
   "metadata": {
    "id": "jscPGHAdSGMB"
   },
   "outputs": [
    {
     "name": "stdout",
     "output_type": "stream",
     "text": [
      "Random Forest model saved successfully at: C:\\Users\\Karan\\OneDrive\\Desktop\\fake-news-detection\\random_forest_model.pickle\n"
     ]
    }
   ],
   "source": [
    "import pickle\n",
    "\n",
    "# Step 1: Define filename for pickle file\n",
    "filename = r'C:\\Users\\Karan\\OneDrive\\Desktop\\fake-news-detection\\random_forest_model.pickle'\n",
    "\n",
    "# Step 2: Save the trained Random Forest model\n",
    "with open(filename, 'wb') as file:\n",
    "    pickle.dump(rf_model, file)\n",
    "\n",
    "print(\"Random Forest model saved successfully at:\", filename)"
   ]
  },
  {
   "cell_type": "code",
   "execution_count": 26,
   "metadata": {},
   "outputs": [
    {
     "name": "stdout",
     "output_type": "stream",
     "text": [
      "Sample Predictions: ['FAKE' 'REAL' 'REAL' 'FAKE' 'REAL']\n"
     ]
    }
   ],
   "source": [
    "# Load the saved model\n",
    "with open(filename, 'rb') as file:\n",
    "    loaded_rf_model = pickle.load(file)\n",
    "\n",
    "# Test the loaded model\n",
    "sample_prediction = loaded_rf_model.predict(x_test[:5])\n",
    "print(\"Sample Predictions:\", sample_prediction)"
   ]
  },
  {
   "cell_type": "markdown",
   "metadata": {
    "id": "AVG0xCw0ZyvF"
   },
   "source": [
    "**Q10.** Load that saved model in another Notebook use it on other dataset for fake news detection."
   ]
  },
  {
   "cell_type": "code",
   "execution_count": 48,
   "metadata": {},
   "outputs": [],
   "source": [
    "import pandas as pd\n",
    "import re\n",
    "import string\n",
    "from sklearn.feature_extraction.text import TfidfVectorizer\n",
    "import pickle\n",
    "\n",
    "# Load training dataset\n",
    "df = pd.read_csv(r'C:\\Users\\Karan\\OneDrive\\Desktop\\fake-news-detection\\new_news_dataset.csv')\n",
    "df.columns = ['title','text','label','date']\n",
    "\n",
    "# Preprocess function\n",
    "def preprocess_text(text):\n",
    "    text = text.lower()\n",
    "    text = re.sub(r'\\[.*?\\]', '', text)\n",
    "    text = re.sub(r'https?://\\S+|www\\.\\S+', '', text)\n",
    "    text = re.sub(r'<.*?>+', '', text)\n",
    "    text = re.sub(r'[%s]' % re.escape(string.punctuation), '', text)\n",
    "    text = re.sub(r'\\n', ' ', text)\n",
    "    text = re.sub(r'\\w*\\d\\w*', '', text)\n",
    "    return text.strip()\n",
    "\n",
    "# Apply preprocessing\n",
    "df['text_clean'] = df['text'].apply(preprocess_text)\n",
    "\n",
    "# Training text ready\n",
    "X_train_clean = df['text_clean']\n",
    "y_train = df['label']"
   ]
  },
  {
   "cell_type": "code",
   "execution_count": 49,
   "metadata": {},
   "outputs": [
    {
     "name": "stdout",
     "output_type": "stream",
     "text": [
      "TF-IDF vectorizer saved successfully!\n"
     ]
    }
   ],
   "source": [
    "vectorizer = TfidfVectorizer(max_features=5000)\n",
    "X_train_vect = vectorizer.fit_transform(X_train_clean)\n",
    "\n",
    "# Save vectorizer\n",
    "with open(r'C:\\Users\\Karan\\OneDrive\\Desktop\\fake-news-detection\\tfidf_vectorizer.pkl', 'wb') as file:\n",
    "    pickle.dump(vectorizer, file)\n",
    "\n",
    "print(\"TF-IDF vectorizer saved successfully!\")"
   ]
  },
  {
   "cell_type": "code",
   "execution_count": 50,
   "metadata": {},
   "outputs": [],
   "source": [
    "with open(r'C:\\Users\\Karan\\OneDrive\\Desktop\\fake-news-detection\\tfidf_vectorizer.pkl', 'rb') as file:\n",
    "    tfidf_vectorizer = pickle.load(file)"
   ]
  },
  {
   "cell_type": "code",
   "execution_count": 51,
   "metadata": {},
   "outputs": [],
   "source": [
    "new_df = pd.read_csv(r'C:\\Users\\Karan\\OneDrive\\Desktop\\fake-news-detection\\new_news_dataset.csv', header=None)\n",
    "new_df.columns = ['title','text','category','date']\n",
    "\n",
    "new_df['text_clean'] = new_df['text'].apply(preprocess_text)"
   ]
  },
  {
   "cell_type": "code",
   "execution_count": 52,
   "metadata": {},
   "outputs": [],
   "source": [
    "X_new_vect = tfidf_vectorizer.transform(new_df['text_clean'])"
   ]
  },
  {
   "cell_type": "code",
   "execution_count": 54,
   "metadata": {},
   "outputs": [
    {
     "name": "stdout",
     "output_type": "stream",
     "text": [
      "                                               title  \\\n",
      "0  U.S. military to accept transgender recruits o...   \n",
      "1  Senior U.S. Republican senator: 'Let Mr. Muell...   \n",
      "2  FBI Russia probe helped by Australian diplomat...   \n",
      "3  Trump wants Postal Service to charge 'much mor...   \n",
      "4  White House, Congress prepare for talks on spe...   \n",
      "\n",
      "                                                text      category  \\\n",
      "0  WASHINGTON (Reuters) - Transgender people will...  politicsNews   \n",
      "1  WASHINGTON (Reuters) - The special counsel inv...  politicsNews   \n",
      "2  WASHINGTON (Reuters) - Trump campaign adviser ...  politicsNews   \n",
      "3  SEATTLE/WASHINGTON (Reuters) - President Donal...  politicsNews   \n",
      "4  WEST PALM BEACH, Fla./WASHINGTON (Reuters) - T...  politicsNews   \n",
      "\n",
      "                 date                                         text_clean  \\\n",
      "0  December 29, 2017   washington reuters  transgender people will be...   \n",
      "1  December 31, 2017   washington reuters  the special counsel invest...   \n",
      "2  December 30, 2017   washington reuters  trump campaign adviser geo...   \n",
      "3  December 29, 2017   seattlewashington reuters  president donald tr...   \n",
      "4  December 29, 2017   west palm beach flawashington reuters  the whi...   \n",
      "\n",
      "   Prediction  \n",
      "0           0  \n",
      "1           0  \n",
      "2           0  \n",
      "3           0  \n",
      "4           0  \n"
     ]
    }
   ],
   "source": [
    "model_path = r'C:\\Users\\Karan\\OneDrive\\Desktop\\fake-news-detection\\random_forest_model.pickle'\n",
    "with open(model_path, 'rb') as file:\n",
    "    loaded_model = pickle.load(file)\n",
    "\n",
    "y_new_pred = loaded_model.predict(X_new_vect)\n",
    "new_df['Prediction'] = y_new_pred\n",
    "print(new_df.head())"
   ]
  },
  {
   "cell_type": "markdown",
   "metadata": {
    "id": "2MMFPqDjaffV"
   },
   "source": [
    "**Q11(Optional).**\n",
    "\n",
    "\n",
    "1.  Try to enhance the model's accuracy by using adaboost or any other boosting methods.\n",
    "2.  Use TF-IDF or any other vectorizer instead of Word2Vec and study how much it affects on model's accuracy.\n",
    "\n",
    "\n",
    "\n",
    "\n"
   ]
  },
  {
   "cell_type": "code",
   "execution_count": 81,
   "metadata": {},
   "outputs": [],
   "source": [
    "import pandas as pd\n",
    "import re\n",
    "import string\n",
    "from sklearn.model_selection import train_test_split\n",
    "from sklearn.feature_extraction.text import TfidfVectorizer\n",
    "from sklearn.ensemble import AdaBoostClassifier, GradientBoostingClassifier\n",
    "from sklearn.metrics import accuracy_score, classification_report, confusion_matrix\n",
    "from gensim.models import Word2Vec\n",
    "from sklearn.preprocessing import LabelEncoder"
   ]
  },
  {
   "cell_type": "code",
   "execution_count": 82,
   "metadata": {},
   "outputs": [],
   "source": [
    "df = pd.read_csv(r'C:\\Users\\Karan\\OneDrive\\Desktop\\fake-news-detection\\new_news_dataset.csv')\n",
    "\n",
    "# Rename columns if needed\n",
    "df.columns = ['title', 'text', 'label', 'date']  # label: 0=True, 1=Fake"
   ]
  },
  {
   "cell_type": "code",
   "execution_count": 83,
   "metadata": {},
   "outputs": [],
   "source": [
    "def preprocess_text(text):\n",
    "    text = text.lower()\n",
    "    text = re.sub(r'\\[.*?\\]', '', text)\n",
    "    text = re.sub(r'https?://\\S+|www\\.\\S+', '', text)\n",
    "    text = re.sub(r'<.*?>+', '', text)\n",
    "    text = re.sub(r'[%s]' % re.escape(string.punctuation), '', text)\n",
    "    text = re.sub(r'\\n', ' ', text)\n",
    "    text = re.sub(r'\\w*\\d\\w*', '', text)\n",
    "    return text.strip()\n",
    "\n",
    "df['text_clean'] = df['text'].apply(preprocess_text)"
   ]
  },
  {
   "cell_type": "code",
   "execution_count": 84,
   "metadata": {},
   "outputs": [],
   "source": [
    "X = df['text_clean']\n",
    "y = df['label']\n",
    "\n",
    "X_train, X_test, y_train, y_test = train_test_split(X, y, test_size=0.2, random_state=42)"
   ]
  },
  {
   "cell_type": "code",
   "execution_count": 85,
   "metadata": {},
   "outputs": [],
   "source": [
    "vectorizer = TfidfVectorizer(max_features=5000)\n",
    "X_train_tfidf = vectorizer.fit_transform(X_train)\n",
    "X_test_tfidf = vectorizer.transform(X_test)"
   ]
  },
  {
   "cell_type": "code",
   "execution_count": 86,
   "metadata": {},
   "outputs": [
    {
     "name": "stdout",
     "output_type": "stream",
     "text": [
      "AdaBoost Accuracy: 1.0\n",
      "\n",
      "Confusion Matrix:\n",
      " [[106]]\n",
      "\n",
      "Classification Report:\n",
      "               precision    recall  f1-score   support\n",
      "\n",
      "politicsNews       1.00      1.00      1.00       106\n",
      "\n",
      "    accuracy                           1.00       106\n",
      "   macro avg       1.00      1.00      1.00       106\n",
      "weighted avg       1.00      1.00      1.00       106\n",
      "\n"
     ]
    },
    {
     "name": "stderr",
     "output_type": "stream",
     "text": [
      "C:\\Users\\Karan\\AppData\\Local\\Packages\\PythonSoftwareFoundation.Python.3.12_qbz5n2kfra8p0\\LocalCache\\local-packages\\Python312\\site-packages\\sklearn\\metrics\\_classification.py:534: UserWarning: A single label was found in 'y_true' and 'y_pred'. For the confusion matrix to have the correct shape, use the 'labels' parameter to pass all known labels.\n",
      "  warnings.warn(\n"
     ]
    }
   ],
   "source": [
    "adaboost_model = AdaBoostClassifier(n_estimators=100, learning_rate=1, random_state=42)\n",
    "adaboost_model.fit(X_train_tfidf, y_train)\n",
    "\n",
    "y_pred_adaboost = adaboost_model.predict(X_test_tfidf)\n",
    "\n",
    "# Evaluate\n",
    "print(\"AdaBoost Accuracy:\", accuracy_score(y_test, y_pred_adaboost))\n",
    "print(\"\\nConfusion Matrix:\\n\", confusion_matrix(y_test, y_pred_adaboost))\n",
    "print(\"\\nClassification Report:\\n\", classification_report(y_test, y_pred_adaboost))"
   ]
  },
  {
   "cell_type": "code",
   "execution_count": 89,
   "metadata": {},
   "outputs": [],
   "source": [
    "#Compare TF-IDF vs Word2Vec (\n",
    "# Prepare tokenized sentences\n",
    "tokenized_sentences = [text.split() for text in X_train]\n",
    "\n",
    "# Train Word2Vec model\n",
    "w2v_model = Word2Vec(sentences=tokenized_sentences, vector_size=100, window=5, min_count=1, workers=4)\n",
    "\n",
    "# Function to convert sentence to average Word2Vec vector\n",
    "import numpy as np\n",
    "def w2v_vector(text):\n",
    "    words = text.split()\n",
    "    word_vecs = [w2v_model.wv[word] for word in words if word in w2v_model.wv]\n",
    "    if len(word_vecs) == 0:\n",
    "        return np.zeros(100)\n",
    "    return np.mean(word_vecs, axis=0)\n",
    "\n",
    "# Convert train & test data\n",
    "X_train_w2v = np.array([w2v_vector(text) for text in X_train])\n",
    "X_test_w2v = np.array([w2v_vector(text) for text in X_test])"
   ]
  },
  {
   "cell_type": "code",
   "execution_count": 88,
   "metadata": {},
   "outputs": [
    {
     "name": "stdout",
     "output_type": "stream",
     "text": [
      "AdaBoost + Word2Vec Accuracy: 1.0\n",
      "\n",
      "Confusion Matrix:\n",
      " [[106]]\n",
      "\n",
      "Classification Report:\n",
      "               precision    recall  f1-score   support\n",
      "\n",
      "politicsNews       1.00      1.00      1.00       106\n",
      "\n",
      "    accuracy                           1.00       106\n",
      "   macro avg       1.00      1.00      1.00       106\n",
      "weighted avg       1.00      1.00      1.00       106\n",
      "\n"
     ]
    },
    {
     "name": "stderr",
     "output_type": "stream",
     "text": [
      "C:\\Users\\Karan\\AppData\\Local\\Packages\\PythonSoftwareFoundation.Python.3.12_qbz5n2kfra8p0\\LocalCache\\local-packages\\Python312\\site-packages\\sklearn\\metrics\\_classification.py:534: UserWarning: A single label was found in 'y_true' and 'y_pred'. For the confusion matrix to have the correct shape, use the 'labels' parameter to pass all known labels.\n",
      "  warnings.warn(\n"
     ]
    }
   ],
   "source": [
    "adaboost_w2v = AdaBoostClassifier(n_estimators=100, learning_rate=1, random_state=42)\n",
    "adaboost_w2v.fit(X_train_w2v, y_train)\n",
    "y_pred_w2v = adaboost_w2v.predict(X_test_w2v)\n",
    "\n",
    "# Evaluate\n",
    "print(\"AdaBoost + Word2Vec Accuracy:\", accuracy_score(y_test, y_pred_w2v))\n",
    "print(\"\\nConfusion Matrix:\\n\", confusion_matrix(y_test, y_pred_w2v))\n",
    "print(\"\\nClassification Report:\\n\", classification_report(y_test, y_pred_w2v))"
   ]
  },
  {
   "cell_type": "code",
   "execution_count": null,
   "metadata": {},
   "outputs": [],
   "source": []
  }
 ],
 "metadata": {
  "colab": {
   "collapsed_sections": [
    "lDJ-pmwxYdkV",
    "RkpC0wRT58k_"
   ],
   "provenance": [
    {
     "file_id": "1g8NKp65lzhxDNfWuxHZHZCNTZrppF5FH",
     "timestamp": 1756892039083
    }
   ]
  },
  "kernelspec": {
   "display_name": "Python 3 (ipykernel)",
   "language": "python",
   "name": "python3"
  },
  "language_info": {
   "codemirror_mode": {
    "name": "ipython",
    "version": 3
   },
   "file_extension": ".py",
   "mimetype": "text/x-python",
   "name": "python",
   "nbconvert_exporter": "python",
   "pygments_lexer": "ipython3",
   "version": "3.12.10"
  }
 },
 "nbformat": 4,
 "nbformat_minor": 4
}
